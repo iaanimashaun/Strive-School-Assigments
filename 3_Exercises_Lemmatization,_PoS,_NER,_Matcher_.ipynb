{
  "nbformat": 4,
  "nbformat_minor": 5,
  "metadata": {
    "kernelspec": {
      "display_name": "Python 3",
      "language": "python",
      "name": "python3"
    },
    "language_info": {
      "codemirror_mode": {
        "name": "ipython",
        "version": 3
      },
      "file_extension": ".py",
      "mimetype": "text/x-python",
      "name": "python",
      "nbconvert_exporter": "python",
      "pygments_lexer": "ipython3",
      "version": "3.9.1"
    },
    "varInspector": {
      "cols": {
        "lenName": 16,
        "lenType": 16,
        "lenVar": 40
      },
      "kernels_config": {
        "python": {
          "delete_cmd_postfix": "",
          "delete_cmd_prefix": "del ",
          "library": "var_list.py",
          "varRefreshCmd": "print(var_dic_list())"
        },
        "r": {
          "delete_cmd_postfix": ") ",
          "delete_cmd_prefix": "rm(",
          "library": "var_list.r",
          "varRefreshCmd": "cat(var_dic_list()) "
        }
      },
      "types_to_exclude": [
        "module",
        "function",
        "builtin_function_or_method",
        "instance",
        "_Feature"
      ],
      "window_display": false
    },
    "colab": {
      "name": "3. Exercises - Lemmatization, PoS, NER, Matcher .ipynb",
      "provenance": [],
      "toc_visible": true,
      "include_colab_link": true
    }
  },
  "cells": [
    {
      "cell_type": "markdown",
      "metadata": {
        "id": "view-in-github",
        "colab_type": "text"
      },
      "source": [
        "<a href=\"https://colab.research.google.com/github/iaanimashaun/Strive-School-Assigments/blob/main/3_Exercises_Lemmatization%2C_PoS%2C_NER%2C_Matcher_.ipynb\" target=\"_parent\"><img src=\"https://colab.research.google.com/assets/colab-badge.svg\" alt=\"Open In Colab\"/></a>"
      ]
    },
    {
      "cell_type": "code",
      "metadata": {
        "ExecuteTime": {
          "end_time": "2021-03-30T19:32:23.755820Z",
          "start_time": "2021-03-30T19:32:22.644310Z"
        },
        "id": "valid-consultation"
      },
      "source": [
        "import spacy\n",
        "\n",
        "\n",
        "nlp = spacy.load(\"en_core_web_sm\")"
      ],
      "id": "valid-consultation",
      "execution_count": 3,
      "outputs": []
    },
    {
      "cell_type": "markdown",
      "metadata": {
        "id": "everyday-mortgage"
      },
      "source": [
        "## Lemmatization\n",
        "\n",
        "**Exercise 1.1**\n",
        "\n",
        "You are given the words \"playing\", \"played\", \"play\". Find the lemma using spaCy for all of them.\n"
      ],
      "id": "everyday-mortgage"
    },
    {
      "cell_type": "code",
      "metadata": {
        "ExecuteTime": {
          "end_time": "2021-03-30T19:34:20.464484Z",
          "start_time": "2021-03-30T19:34:20.425793Z"
        },
        "colab": {
          "base_uri": "https://localhost:8080/"
        },
        "id": "english-plate",
        "outputId": "4efcf982-cdf4-4deb-de11-3d0bf0584347"
      },
      "source": [
        "words = [\"playing\", \"played\", \"playing\"]\n",
        "\n",
        "for token in nlp(' '.join(words)):\n",
        "  lemma = token.lemma_\n",
        "  print(lemma, token)"
      ],
      "id": "english-plate",
      "execution_count": 9,
      "outputs": [
        {
          "output_type": "stream",
          "text": [
            "play playing\n",
            "play played\n",
            "playing playing\n"
          ],
          "name": "stdout"
        }
      ]
    },
    {
      "cell_type": "markdown",
      "metadata": {
        "id": "nominated-commonwealth"
      },
      "source": [
        "**Exercise 1.2**\n",
        "\n",
        "Assign the spaCy lemmatizer to a variable instead of using the whole `nlp` pipeline."
      ],
      "id": "nominated-commonwealth"
    },
    {
      "cell_type": "code",
      "metadata": {
        "colab": {
          "base_uri": "https://localhost:8080/"
        },
        "id": "hazardous-design",
        "outputId": "2d52d505-69e2-41a3-ba25-8bdd04ac8174"
      },
      "source": [
        "from spacy.lemmatizer import Lemmatizer, ADJ, NOUN, VERB\n",
        "\n",
        "lemmatizer = nlp.vocab.morphology.lemmatizer\n"
      ],
      "id": "hazardous-design",
      "execution_count": 11,
      "outputs": [
        {
          "output_type": "execute_result",
          "data": {
            "text/plain": [
              "['play']"
            ]
          },
          "metadata": {
            "tags": []
          },
          "execution_count": 11
        }
      ]
    },
    {
      "cell_type": "markdown",
      "metadata": {
        "id": "clinical-champion"
      },
      "source": [
        "**Exercise 1.3**\n",
        "\n",
        "Find the verb, the noun and the adjective forms of the words: \"playing\", \"played\", \"surfing\"."
      ],
      "id": "clinical-champion"
    },
    {
      "cell_type": "code",
      "metadata": {
        "colab": {
          "base_uri": "https://localhost:8080/"
        },
        "id": "cfqiSqyS7_Zy",
        "outputId": "769ffcc2-2f70-4969-fc51-f7cb84f732dc"
      },
      "source": [
        "lemmatizer('played', VERB)"
      ],
      "id": "cfqiSqyS7_Zy",
      "execution_count": 17,
      "outputs": [
        {
          "output_type": "execute_result",
          "data": {
            "text/plain": [
              "['play']"
            ]
          },
          "metadata": {
            "tags": []
          },
          "execution_count": 17
        }
      ]
    },
    {
      "cell_type": "code",
      "metadata": {
        "ExecuteTime": {
          "end_time": "2021-03-30T19:41:42.605031Z",
          "start_time": "2021-03-30T19:41:42.595092Z"
        },
        "colab": {
          "base_uri": "https://localhost:8080/"
        },
        "id": "elementary-blood",
        "outputId": "050ad560-ab8c-49e8-faa3-96c436370580"
      },
      "source": [
        "words = [\"playing\", \"played\", \"surfing\"]\n",
        "for word in words:\n",
        "  print(lemmatizer(word, VERB))\n",
        "  print(lemmatizer(word, NOUN))\n",
        "  print(lemmatizer(word, ADJ))\n",
        "  print('-'*10)\n"
      ],
      "id": "elementary-blood",
      "execution_count": 19,
      "outputs": [
        {
          "output_type": "stream",
          "text": [
            "['play']\n",
            "['playing']\n",
            "['playing']\n",
            "----------\n",
            "['play']\n",
            "['played']\n",
            "['played']\n",
            "----------\n",
            "['surf']\n",
            "['surfing']\n",
            "['surfing']\n",
            "----------\n"
          ],
          "name": "stdout"
        }
      ]
    },
    {
      "cell_type": "markdown",
      "metadata": {
        "id": "documentary-heart"
      },
      "source": [
        "## Spell Checker\n",
        "\n",
        "**Exercise 1.4**\n",
        "\n",
        "In the following sentences there are some mispelling errors. Can you preprocess them to get rid of them? \n",
        "\n",
        "*N.B. there's no perfect spell-checker. Don't waste time on this. But be aware that it can be useful sometimes.*\n",
        "\n"
      ],
      "id": "documentary-heart"
    },
    {
      "cell_type": "code",
      "metadata": {
        "colab": {
          "base_uri": "https://localhost:8080/"
        },
        "id": "Tc4FlyMF8ln5",
        "outputId": "80c2bfe3-669a-4991-e37c-445f03664424"
      },
      "source": [
        "!pip install autocorrect"
      ],
      "id": "Tc4FlyMF8ln5",
      "execution_count": 30,
      "outputs": [
        {
          "output_type": "stream",
          "text": [
            "Collecting autocorrect\n",
            "\u001b[?25l  Downloading https://files.pythonhosted.org/packages/16/a8/1fc332535fc26db807fa48bdb54070355b83a36c797451c3d563bc190fa8/autocorrect-2.3.0.tar.gz (621kB)\n",
            "\r\u001b[K     |▌                               | 10kB 14.1MB/s eta 0:00:01\r\u001b[K     |█                               | 20kB 15.4MB/s eta 0:00:01\r\u001b[K     |█▋                              | 30kB 8.7MB/s eta 0:00:01\r\u001b[K     |██                              | 40kB 7.9MB/s eta 0:00:01\r\u001b[K     |██▋                             | 51kB 4.4MB/s eta 0:00:01\r\u001b[K     |███▏                            | 61kB 4.6MB/s eta 0:00:01\r\u001b[K     |███▊                            | 71kB 5.1MB/s eta 0:00:01\r\u001b[K     |████▏                           | 81kB 5.3MB/s eta 0:00:01\r\u001b[K     |████▊                           | 92kB 5.4MB/s eta 0:00:01\r\u001b[K     |█████▎                          | 102kB 5.7MB/s eta 0:00:01\r\u001b[K     |█████▉                          | 112kB 5.7MB/s eta 0:00:01\r\u001b[K     |██████▎                         | 122kB 5.7MB/s eta 0:00:01\r\u001b[K     |██████▉                         | 133kB 5.7MB/s eta 0:00:01\r\u001b[K     |███████▍                        | 143kB 5.7MB/s eta 0:00:01\r\u001b[K     |████████                        | 153kB 5.7MB/s eta 0:00:01\r\u001b[K     |████████▍                       | 163kB 5.7MB/s eta 0:00:01\r\u001b[K     |█████████                       | 174kB 5.7MB/s eta 0:00:01\r\u001b[K     |█████████▌                      | 184kB 5.7MB/s eta 0:00:01\r\u001b[K     |██████████                      | 194kB 5.7MB/s eta 0:00:01\r\u001b[K     |██████████▌                     | 204kB 5.7MB/s eta 0:00:01\r\u001b[K     |███████████                     | 215kB 5.7MB/s eta 0:00:01\r\u001b[K     |███████████▋                    | 225kB 5.7MB/s eta 0:00:01\r\u001b[K     |████████████▏                   | 235kB 5.7MB/s eta 0:00:01\r\u001b[K     |████████████▋                   | 245kB 5.7MB/s eta 0:00:01\r\u001b[K     |█████████████▏                  | 256kB 5.7MB/s eta 0:00:01\r\u001b[K     |█████████████▊                  | 266kB 5.7MB/s eta 0:00:01\r\u001b[K     |██████████████▎                 | 276kB 5.7MB/s eta 0:00:01\r\u001b[K     |██████████████▊                 | 286kB 5.7MB/s eta 0:00:01\r\u001b[K     |███████████████▎                | 296kB 5.7MB/s eta 0:00:01\r\u001b[K     |███████████████▉                | 307kB 5.7MB/s eta 0:00:01\r\u001b[K     |████████████████▍               | 317kB 5.7MB/s eta 0:00:01\r\u001b[K     |████████████████▉               | 327kB 5.7MB/s eta 0:00:01\r\u001b[K     |█████████████████▍              | 337kB 5.7MB/s eta 0:00:01\r\u001b[K     |██████████████████              | 348kB 5.7MB/s eta 0:00:01\r\u001b[K     |██████████████████▍             | 358kB 5.7MB/s eta 0:00:01\r\u001b[K     |███████████████████             | 368kB 5.7MB/s eta 0:00:01\r\u001b[K     |███████████████████▌            | 378kB 5.7MB/s eta 0:00:01\r\u001b[K     |████████████████████            | 389kB 5.7MB/s eta 0:00:01\r\u001b[K     |████████████████████▌           | 399kB 5.7MB/s eta 0:00:01\r\u001b[K     |█████████████████████           | 409kB 5.7MB/s eta 0:00:01\r\u001b[K     |█████████████████████▋          | 419kB 5.7MB/s eta 0:00:01\r\u001b[K     |██████████████████████▏         | 430kB 5.7MB/s eta 0:00:01\r\u001b[K     |██████████████████████▋         | 440kB 5.7MB/s eta 0:00:01\r\u001b[K     |███████████████████████▏        | 450kB 5.7MB/s eta 0:00:01\r\u001b[K     |███████████████████████▊        | 460kB 5.7MB/s eta 0:00:01\r\u001b[K     |████████████████████████▎       | 471kB 5.7MB/s eta 0:00:01\r\u001b[K     |████████████████████████▊       | 481kB 5.7MB/s eta 0:00:01\r\u001b[K     |█████████████████████████▎      | 491kB 5.7MB/s eta 0:00:01\r\u001b[K     |█████████████████████████▉      | 501kB 5.7MB/s eta 0:00:01\r\u001b[K     |██████████████████████████▍     | 512kB 5.7MB/s eta 0:00:01\r\u001b[K     |██████████████████████████▉     | 522kB 5.7MB/s eta 0:00:01\r\u001b[K     |███████████████████████████▍    | 532kB 5.7MB/s eta 0:00:01\r\u001b[K     |████████████████████████████    | 542kB 5.7MB/s eta 0:00:01\r\u001b[K     |████████████████████████████▌   | 552kB 5.7MB/s eta 0:00:01\r\u001b[K     |█████████████████████████████   | 563kB 5.7MB/s eta 0:00:01\r\u001b[K     |█████████████████████████████▌  | 573kB 5.7MB/s eta 0:00:01\r\u001b[K     |██████████████████████████████  | 583kB 5.7MB/s eta 0:00:01\r\u001b[K     |██████████████████████████████▋ | 593kB 5.7MB/s eta 0:00:01\r\u001b[K     |███████████████████████████████ | 604kB 5.7MB/s eta 0:00:01\r\u001b[K     |███████████████████████████████▋| 614kB 5.7MB/s eta 0:00:01\r\u001b[K     |████████████████████████████████| 624kB 5.7MB/s \n",
            "\u001b[?25hBuilding wheels for collected packages: autocorrect\n",
            "  Building wheel for autocorrect (setup.py) ... \u001b[?25l\u001b[?25hdone\n",
            "  Created wheel for autocorrect: filename=autocorrect-2.3.0-cp37-none-any.whl size=621587 sha256=538c40f31a66285a5bba0bffc49bd3885dc83a21dd6b2822c4826bc0751f9520\n",
            "  Stored in directory: /root/.cache/pip/wheels/cc/1c/30/6b0199afbd20eef5959f5eaa0ead86aeef84391740482b2279\n",
            "Successfully built autocorrect\n",
            "Installing collected packages: autocorrect\n",
            "Successfully installed autocorrect-2.3.0\n"
          ],
          "name": "stdout"
        }
      ]
    },
    {
      "cell_type": "code",
      "metadata": {
        "colab": {
          "base_uri": "https://localhost:8080/"
        },
        "id": "OpWEzwm18VwO",
        "outputId": "14f64481-cc74-4134-87cd-6477c4fb4db0"
      },
      "source": [
        "sentences = [\"i realy like this exerxise\", \n",
        "             \"tis sentences are surely writen by an italian\",\n",
        "             \"lets fix thissssss\"\n",
        "            ]\n",
        "\n",
        "from spellchecker import SpellChecker\n",
        "\n",
        "text = nlp(' '.join(sentences))\n",
        "spell = SpellChecker()\n",
        "\n",
        "# find those words that may be misspelled\n",
        "misspelled = spell.unknown([token.text for token in text])\n",
        "\n",
        "\n",
        "for word in misspelled:\n",
        "    # Get the one `most likely` answer\n",
        "    print(spell.correction(word))\n",
        "\n",
        "    # Get a list of `likely` options\n",
        "    print(spell.candidates(word))\n"
      ],
      "id": "OpWEzwm18VwO",
      "execution_count": 28,
      "outputs": [
        {
          "output_type": "stream",
          "text": [
            "exercise\n",
            "{'exercise'}\n",
            "thissssss\n",
            "{'thissssss'}\n"
          ],
          "name": "stdout"
        }
      ]
    },
    {
      "cell_type": "code",
      "metadata": {
        "colab": {
          "base_uri": "https://localhost:8080/",
          "height": 35
        },
        "id": "fBi5INJD9lHw",
        "outputId": "eba533cf-b0c5-475e-a0df-d8e5b32c3d51"
      },
      "source": [
        "from autocorrect import Speller\n",
        "\n",
        "spell = Speller()\n",
        "\n",
        "spell(text.text)"
      ],
      "id": "fBi5INJD9lHw",
      "execution_count": 31,
      "outputs": [
        {
          "output_type": "execute_result",
          "data": {
            "application/vnd.google.colaboratory.intrinsic+json": {
              "type": "string"
            },
            "text/plain": [
              "'i really like this exercise tis sentences are surely writer by an italian lets fix thissssss'"
            ]
          },
          "metadata": {
            "tags": []
          },
          "execution_count": 31
        }
      ]
    },
    {
      "cell_type": "code",
      "metadata": {
        "ExecuteTime": {
          "end_time": "2021-03-30T20:10:59.239954Z",
          "start_time": "2021-03-30T20:10:59.087475Z"
        },
        "id": "caroline-agency",
        "outputId": "16fc91a3-fa8b-48ce-9250-414832c782bc"
      },
      "source": [
        "sentences = [\"i realy like this exerxise\", \n",
        "             \"tis sentences are surely writen by an italian\",\n",
        "             \"lets fix thissssss\"\n",
        "            ]\n"
      ],
      "id": "caroline-agency",
      "execution_count": null,
      "outputs": [
        {
          "output_type": "stream",
          "text": [
            "i really like this exercise\n",
            "tis sentences are surely writer by an italian\n",
            "lets fix thissssss\n"
          ],
          "name": "stdout"
        }
      ]
    },
    {
      "cell_type": "markdown",
      "metadata": {
        "id": "tutorial-imperial"
      },
      "source": [
        "## POS Tagging\n",
        "\n",
        "**Exercise 1.5 (★☆☆)**\n",
        "\n",
        "The training of TAs to survive the first two weeks at Strive School consists of the following sets:\n",
        "\n",
        "- 1000 reps of \"Did you google it?\"\n",
        "- 1000 reps of \"Did you search it on Google already?\"\n",
        "\n",
        "Use spaCy to explain the difference of the word \"google\" in the two sentences."
      ],
      "id": "tutorial-imperial"
    },
    {
      "cell_type": "code",
      "metadata": {
        "colab": {
          "base_uri": "https://localhost:8080/"
        },
        "id": "ccG6dXkq-C2b",
        "outputId": "6e43b392-901d-41ba-e445-bdcd68f72d04"
      },
      "source": [
        "sentences = [\"Did you google it?\",\n",
        "             \"Did you search it on Google already?\"]\n",
        "for sentence in sentences:\n",
        "  sentence = nlp(sentence)\n",
        "  for token in sentence:\n",
        "    if token.text in ['google', 'Google']:\n",
        "      print(f'{token.text:{12}} {token.pos_:{10}} {token.tag_:{8}} {spacy.explain(token.tag_)}')"
      ],
      "id": "ccG6dXkq-C2b",
      "execution_count": 33,
      "outputs": [
        {
          "output_type": "stream",
          "text": [
            "google       VERB       VB       verb, base form\n",
            "Google       PROPN      NNP      noun, proper singular\n"
          ],
          "name": "stdout"
        }
      ]
    },
    {
      "cell_type": "code",
      "metadata": {
        "ExecuteTime": {
          "end_time": "2021-03-31T04:57:52.063503Z",
          "start_time": "2021-03-31T04:57:51.819028Z"
        },
        "id": "respiratory-priest",
        "outputId": "d4b6477f-0dd9-40f7-a058-bcdee388f668"
      },
      "source": [
        "sentences = [\"Did you google it?\",\n",
        "             \"Did you search it on Google already?\"]\n"
      ],
      "id": "respiratory-priest",
      "execution_count": null,
      "outputs": [
        {
          "output_type": "stream",
          "text": [
            "google       VERB       VB       verb, base form\n",
            "Google       PROPN      NNP      noun, proper singular\n"
          ],
          "name": "stdout"
        }
      ]
    },
    {
      "cell_type": "markdown",
      "metadata": {
        "id": "hearing-iceland"
      },
      "source": [
        "**Exercise 1.5 (★★☆)**\n",
        "\n",
        "Get the frequencies of the POS tags in the example sentence:"
      ],
      "id": "hearing-iceland"
    },
    {
      "cell_type": "code",
      "metadata": {
        "colab": {
          "base_uri": "https://localhost:8080/"
        },
        "id": "TtNJwKsu_TY9",
        "outputId": "7844796f-c08b-4eb8-d529-9215ed7f4f09"
      },
      "source": [
        "sentence = \"\"\"This is an example sentence.\n",
        "            Count the POS tags in it.\"\"\"\n",
        "\n",
        "sentence = nlp(sentence)\n",
        "\n",
        "num_pos = sentence.count_by(spacy.attrs.POS)\n",
        "for ID, frequency in num_pos.items():\n",
        "    print(f\"{sentence.vocab[ID].text:{8}}: {frequency}\")"
      ],
      "id": "TtNJwKsu_TY9",
      "execution_count": 36,
      "outputs": [
        {
          "output_type": "stream",
          "text": [
            "DET     : 3\n",
            "AUX     : 1\n",
            "NOUN    : 3\n",
            "PUNCT   : 2\n",
            "SPACE   : 1\n",
            "VERB    : 1\n",
            "PROPN   : 1\n",
            "ADP     : 1\n",
            "PRON    : 1\n"
          ],
          "name": "stdout"
        }
      ]
    },
    {
      "cell_type": "code",
      "metadata": {
        "ExecuteTime": {
          "end_time": "2021-03-31T05:17:13.245020Z",
          "start_time": "2021-03-31T05:17:13.220428Z"
        },
        "id": "rational-xerox",
        "outputId": "29229da1-64ec-4609-a34c-0cda75b77bb0"
      },
      "source": [
        "sentence = \"\"\"This is an example sentence.\n",
        "            Count the POS tags in it.\"\"\"\n",
        "\n"
      ],
      "id": "rational-xerox",
      "execution_count": null,
      "outputs": [
        {
          "output_type": "stream",
          "text": [
            "DET 3\n",
            "AUX 1\n",
            "NOUN 3\n",
            "PUNCT 2\n",
            "SPACE 1\n",
            "PROPN 2\n",
            "ADP 1\n",
            "PRON 1\n"
          ],
          "name": "stdout"
        }
      ]
    },
    {
      "cell_type": "markdown",
      "metadata": {
        "ExecuteTime": {
          "end_time": "2021-03-31T05:09:39.399233Z",
          "start_time": "2021-03-31T05:09:39.364673Z"
        },
        "id": "efficient-label"
      },
      "source": [
        "**Exercise 1.7 (★★★)**\n",
        "\n",
        "(This exercises requires many steps in Pandas, no unique solution. You can hard code the name of the columns for this example if you get stuck.)\n",
        "\n",
        "Loading 10 tweets from the twitter datasets, create a dataframe containing the frequencies of each POS per tweet (see example).\n",
        "\n",
        "N.B. The column names must be the tags not the indices of the tags."
      ],
      "id": "efficient-label"
    },
    {
      "cell_type": "code",
      "metadata": {
        "ExecuteTime": {
          "end_time": "2021-03-31T06:16:19.616337Z",
          "start_time": "2021-03-31T06:16:19.498649Z"
        },
        "id": "fifth-dispute"
      },
      "source": [
        "import pandas as pd\n",
        "\n",
        "df = pd.read_csv(\"/content/drive/MyDrive/Strive/Exercises/Module_7_NLP/Week_1/D3/3. Morphology PoS and NER/data/stock_data.csv\") #'https://drive.google.com/drive/folders/19fUvmBjO7y-RAK14x0ICfEO8sdnfDJx8?usp=sharing'\n",
        "\n",
        "df = df.iloc[:10]"
      ],
      "id": "fifth-dispute",
      "execution_count": 38,
      "outputs": []
    },
    {
      "cell_type": "code",
      "metadata": {
        "colab": {
          "base_uri": "https://localhost:8080/",
          "height": 357
        },
        "id": "iXJnhpDWBBK-",
        "outputId": "cd562434-fc4f-4c9a-809e-55cf3ee72c79"
      },
      "source": [
        "df"
      ],
      "id": "iXJnhpDWBBK-",
      "execution_count": 39,
      "outputs": [
        {
          "output_type": "execute_result",
          "data": {
            "text/html": [
              "<div>\n",
              "<style scoped>\n",
              "    .dataframe tbody tr th:only-of-type {\n",
              "        vertical-align: middle;\n",
              "    }\n",
              "\n",
              "    .dataframe tbody tr th {\n",
              "        vertical-align: top;\n",
              "    }\n",
              "\n",
              "    .dataframe thead th {\n",
              "        text-align: right;\n",
              "    }\n",
              "</style>\n",
              "<table border=\"1\" class=\"dataframe\">\n",
              "  <thead>\n",
              "    <tr style=\"text-align: right;\">\n",
              "      <th></th>\n",
              "      <th>Text</th>\n",
              "      <th>Sentiment</th>\n",
              "    </tr>\n",
              "  </thead>\n",
              "  <tbody>\n",
              "    <tr>\n",
              "      <th>0</th>\n",
              "      <td>Kickers on my watchlist XIDE TIT SOQ PNK CPW B...</td>\n",
              "      <td>1</td>\n",
              "    </tr>\n",
              "    <tr>\n",
              "      <th>1</th>\n",
              "      <td>user: AAP MOVIE. 55% return for the FEA/GEED i...</td>\n",
              "      <td>1</td>\n",
              "    </tr>\n",
              "    <tr>\n",
              "      <th>2</th>\n",
              "      <td>user I'd be afraid to short AMZN - they are lo...</td>\n",
              "      <td>1</td>\n",
              "    </tr>\n",
              "    <tr>\n",
              "      <th>3</th>\n",
              "      <td>MNTA Over 12.00</td>\n",
              "      <td>1</td>\n",
              "    </tr>\n",
              "    <tr>\n",
              "      <th>4</th>\n",
              "      <td>OI  Over 21.37</td>\n",
              "      <td>1</td>\n",
              "    </tr>\n",
              "    <tr>\n",
              "      <th>5</th>\n",
              "      <td>PGNX  Over 3.04</td>\n",
              "      <td>1</td>\n",
              "    </tr>\n",
              "    <tr>\n",
              "      <th>6</th>\n",
              "      <td>AAP - user if so then the current downtrend wi...</td>\n",
              "      <td>-1</td>\n",
              "    </tr>\n",
              "    <tr>\n",
              "      <th>7</th>\n",
              "      <td>Monday's relative weakness. NYX WIN TIE TAP IC...</td>\n",
              "      <td>-1</td>\n",
              "    </tr>\n",
              "    <tr>\n",
              "      <th>8</th>\n",
              "      <td>GOOG - ower trend line channel test &amp; volume s...</td>\n",
              "      <td>1</td>\n",
              "    </tr>\n",
              "    <tr>\n",
              "      <th>9</th>\n",
              "      <td>AAP will watch tomorrow for ONG entry.</td>\n",
              "      <td>1</td>\n",
              "    </tr>\n",
              "  </tbody>\n",
              "</table>\n",
              "</div>"
            ],
            "text/plain": [
              "                                                Text  Sentiment\n",
              "0  Kickers on my watchlist XIDE TIT SOQ PNK CPW B...          1\n",
              "1  user: AAP MOVIE. 55% return for the FEA/GEED i...          1\n",
              "2  user I'd be afraid to short AMZN - they are lo...          1\n",
              "3                                  MNTA Over 12.00            1\n",
              "4                                   OI  Over 21.37            1\n",
              "5                                  PGNX  Over 3.04            1\n",
              "6  AAP - user if so then the current downtrend wi...         -1\n",
              "7  Monday's relative weakness. NYX WIN TIE TAP IC...         -1\n",
              "8  GOOG - ower trend line channel test & volume s...          1\n",
              "9             AAP will watch tomorrow for ONG entry.          1"
            ]
          },
          "metadata": {
            "tags": []
          },
          "execution_count": 39
        }
      ]
    },
    {
      "cell_type": "code",
      "metadata": {
        "ExecuteTime": {
          "end_time": "2021-03-31T06:16:19.660774Z",
          "start_time": "2021-03-31T06:16:19.656353Z"
        },
        "id": "outstanding-commonwealth",
        "outputId": "e360c539-a843-473b-e5a6-c81de59e1310"
      },
      "source": [
        "df"
      ],
      "id": "outstanding-commonwealth",
      "execution_count": null,
      "outputs": [
        {
          "output_type": "execute_result",
          "data": {
            "text/html": [
              "<div>\n",
              "<style scoped>\n",
              "    .dataframe tbody tr th:only-of-type {\n",
              "        vertical-align: middle;\n",
              "    }\n",
              "\n",
              "    .dataframe tbody tr th {\n",
              "        vertical-align: top;\n",
              "    }\n",
              "\n",
              "    .dataframe thead th {\n",
              "        text-align: right;\n",
              "    }\n",
              "</style>\n",
              "<table border=\"1\" class=\"dataframe\">\n",
              "  <thead>\n",
              "    <tr style=\"text-align: right;\">\n",
              "      <th></th>\n",
              "      <th>Text</th>\n",
              "      <th>Sentiment</th>\n",
              "    </tr>\n",
              "  </thead>\n",
              "  <tbody>\n",
              "    <tr>\n",
              "      <th>0</th>\n",
              "      <td>Kickers on my watchlist XIDE TIT SOQ PNK CPW B...</td>\n",
              "      <td>1</td>\n",
              "    </tr>\n",
              "    <tr>\n",
              "      <th>1</th>\n",
              "      <td>user: AAP MOVIE. 55% return for the FEA/GEED i...</td>\n",
              "      <td>1</td>\n",
              "    </tr>\n",
              "    <tr>\n",
              "      <th>2</th>\n",
              "      <td>user I'd be afraid to short AMZN - they are lo...</td>\n",
              "      <td>1</td>\n",
              "    </tr>\n",
              "    <tr>\n",
              "      <th>3</th>\n",
              "      <td>MNTA Over 12.00</td>\n",
              "      <td>1</td>\n",
              "    </tr>\n",
              "    <tr>\n",
              "      <th>4</th>\n",
              "      <td>OI  Over 21.37</td>\n",
              "      <td>1</td>\n",
              "    </tr>\n",
              "    <tr>\n",
              "      <th>5</th>\n",
              "      <td>PGNX  Over 3.04</td>\n",
              "      <td>1</td>\n",
              "    </tr>\n",
              "    <tr>\n",
              "      <th>6</th>\n",
              "      <td>AAP - user if so then the current downtrend wi...</td>\n",
              "      <td>-1</td>\n",
              "    </tr>\n",
              "    <tr>\n",
              "      <th>7</th>\n",
              "      <td>Monday's relative weakness. NYX WIN TIE TAP IC...</td>\n",
              "      <td>-1</td>\n",
              "    </tr>\n",
              "    <tr>\n",
              "      <th>8</th>\n",
              "      <td>GOOG - ower trend line channel test &amp; volume s...</td>\n",
              "      <td>1</td>\n",
              "    </tr>\n",
              "    <tr>\n",
              "      <th>9</th>\n",
              "      <td>AAP will watch tomorrow for ONG entry.</td>\n",
              "      <td>1</td>\n",
              "    </tr>\n",
              "  </tbody>\n",
              "</table>\n",
              "</div>"
            ],
            "text/plain": [
              "                                                Text  Sentiment\n",
              "0  Kickers on my watchlist XIDE TIT SOQ PNK CPW B...          1\n",
              "1  user: AAP MOVIE. 55% return for the FEA/GEED i...          1\n",
              "2  user I'd be afraid to short AMZN - they are lo...          1\n",
              "3                                  MNTA Over 12.00            1\n",
              "4                                   OI  Over 21.37            1\n",
              "5                                  PGNX  Over 3.04            1\n",
              "6  AAP - user if so then the current downtrend wi...         -1\n",
              "7  Monday's relative weakness. NYX WIN TIE TAP IC...         -1\n",
              "8  GOOG - ower trend line channel test & volume s...          1\n",
              "9             AAP will watch tomorrow for ONG entry.          1"
            ]
          },
          "metadata": {
            "tags": []
          },
          "execution_count": 142
        }
      ]
    },
    {
      "cell_type": "code",
      "metadata": {
        "ExecuteTime": {
          "end_time": "2021-03-31T05:26:12.875138Z",
          "start_time": "2021-03-31T05:26:12.865565Z"
        },
        "id": "median-discrimination"
      },
      "source": [
        ""
      ],
      "id": "median-discrimination",
      "execution_count": null,
      "outputs": []
    },
    {
      "cell_type": "code",
      "metadata": {
        "ExecuteTime": {
          "end_time": "2021-03-31T05:34:40.175145Z",
          "start_time": "2021-03-31T05:34:39.994609Z"
        },
        "id": "juvenile-paris"
      },
      "source": [
        ""
      ],
      "id": "juvenile-paris",
      "execution_count": null,
      "outputs": []
    },
    {
      "cell_type": "code",
      "metadata": {
        "ExecuteTime": {
          "end_time": "2021-03-31T05:34:45.822225Z",
          "start_time": "2021-03-31T05:34:45.814005Z"
        },
        "id": "tropical-detective",
        "outputId": "41beb038-dec5-42c9-c587-20ab9af25419"
      },
      "source": [
        "columns = ['NOUN',\n",
        " 'ADP',\n",
        " 'DET',\n",
        " 'PROPN',\n",
        " 'SPACE',\n",
        " 'NUM',\n",
        " 'CCONJ',\n",
        " 'PUNCT',\n",
        " 'VERB',\n",
        " 'SYM',\n",
        " 'ADV',\n",
        " 'PRON',\n",
        " 'AUX',\n",
        " 'ADJ',\n",
        " 'PART',\n",
        " 'SCONJ']"
      ],
      "id": "tropical-detective",
      "execution_count": null,
      "outputs": [
        {
          "output_type": "execute_result",
          "data": {
            "text/plain": [
              "['NOUN',\n",
              " 'ADP',\n",
              " 'DET',\n",
              " 'PROPN',\n",
              " 'SPACE',\n",
              " 'NUM',\n",
              " 'CCONJ',\n",
              " 'PUNCT',\n",
              " 'VERB',\n",
              " 'SYM',\n",
              " 'ADV',\n",
              " 'PRON',\n",
              " 'AUX',\n",
              " 'ADJ',\n",
              " 'PART',\n",
              " 'SCONJ']"
            ]
          },
          "metadata": {
            "tags": []
          },
          "execution_count": 93
        }
      ]
    },
    {
      "cell_type": "code",
      "metadata": {
        "ExecuteTime": {
          "end_time": "2021-03-31T05:50:57.001480Z",
          "start_time": "2021-03-31T05:50:56.992453Z"
        },
        "id": "collective-missouri"
      },
      "source": [
        "import numpy as np\n",
        "array = np.zeros((10,len(columns)+1))\n",
        "data = pd.DataFrame(array, columns=[\"text\", *columns])"
      ],
      "id": "collective-missouri",
      "execution_count": null,
      "outputs": []
    },
    {
      "cell_type": "code",
      "metadata": {
        "ExecuteTime": {
          "end_time": "2021-03-31T05:50:57.097425Z",
          "start_time": "2021-03-31T05:50:57.080979Z"
        },
        "id": "sublime-trade",
        "outputId": "c62a522e-8a0a-4dbb-ee99-40cd37b53e88"
      },
      "source": [
        "data"
      ],
      "id": "sublime-trade",
      "execution_count": null,
      "outputs": [
        {
          "output_type": "execute_result",
          "data": {
            "text/html": [
              "<div>\n",
              "<style scoped>\n",
              "    .dataframe tbody tr th:only-of-type {\n",
              "        vertical-align: middle;\n",
              "    }\n",
              "\n",
              "    .dataframe tbody tr th {\n",
              "        vertical-align: top;\n",
              "    }\n",
              "\n",
              "    .dataframe thead th {\n",
              "        text-align: right;\n",
              "    }\n",
              "</style>\n",
              "<table border=\"1\" class=\"dataframe\">\n",
              "  <thead>\n",
              "    <tr style=\"text-align: right;\">\n",
              "      <th></th>\n",
              "      <th>text</th>\n",
              "      <th>NOUN</th>\n",
              "      <th>ADP</th>\n",
              "      <th>DET</th>\n",
              "      <th>PROPN</th>\n",
              "      <th>SPACE</th>\n",
              "      <th>NUM</th>\n",
              "      <th>CCONJ</th>\n",
              "      <th>PUNCT</th>\n",
              "      <th>VERB</th>\n",
              "      <th>SYM</th>\n",
              "      <th>ADV</th>\n",
              "      <th>PRON</th>\n",
              "      <th>AUX</th>\n",
              "      <th>ADJ</th>\n",
              "      <th>PART</th>\n",
              "      <th>SCONJ</th>\n",
              "    </tr>\n",
              "  </thead>\n",
              "  <tbody>\n",
              "    <tr>\n",
              "      <th>0</th>\n",
              "      <td>0.0</td>\n",
              "      <td>0.0</td>\n",
              "      <td>0.0</td>\n",
              "      <td>0.0</td>\n",
              "      <td>0.0</td>\n",
              "      <td>0.0</td>\n",
              "      <td>0.0</td>\n",
              "      <td>0.0</td>\n",
              "      <td>0.0</td>\n",
              "      <td>0.0</td>\n",
              "      <td>0.0</td>\n",
              "      <td>0.0</td>\n",
              "      <td>0.0</td>\n",
              "      <td>0.0</td>\n",
              "      <td>0.0</td>\n",
              "      <td>0.0</td>\n",
              "      <td>0.0</td>\n",
              "    </tr>\n",
              "    <tr>\n",
              "      <th>1</th>\n",
              "      <td>0.0</td>\n",
              "      <td>0.0</td>\n",
              "      <td>0.0</td>\n",
              "      <td>0.0</td>\n",
              "      <td>0.0</td>\n",
              "      <td>0.0</td>\n",
              "      <td>0.0</td>\n",
              "      <td>0.0</td>\n",
              "      <td>0.0</td>\n",
              "      <td>0.0</td>\n",
              "      <td>0.0</td>\n",
              "      <td>0.0</td>\n",
              "      <td>0.0</td>\n",
              "      <td>0.0</td>\n",
              "      <td>0.0</td>\n",
              "      <td>0.0</td>\n",
              "      <td>0.0</td>\n",
              "    </tr>\n",
              "    <tr>\n",
              "      <th>2</th>\n",
              "      <td>0.0</td>\n",
              "      <td>0.0</td>\n",
              "      <td>0.0</td>\n",
              "      <td>0.0</td>\n",
              "      <td>0.0</td>\n",
              "      <td>0.0</td>\n",
              "      <td>0.0</td>\n",
              "      <td>0.0</td>\n",
              "      <td>0.0</td>\n",
              "      <td>0.0</td>\n",
              "      <td>0.0</td>\n",
              "      <td>0.0</td>\n",
              "      <td>0.0</td>\n",
              "      <td>0.0</td>\n",
              "      <td>0.0</td>\n",
              "      <td>0.0</td>\n",
              "      <td>0.0</td>\n",
              "    </tr>\n",
              "    <tr>\n",
              "      <th>3</th>\n",
              "      <td>0.0</td>\n",
              "      <td>0.0</td>\n",
              "      <td>0.0</td>\n",
              "      <td>0.0</td>\n",
              "      <td>0.0</td>\n",
              "      <td>0.0</td>\n",
              "      <td>0.0</td>\n",
              "      <td>0.0</td>\n",
              "      <td>0.0</td>\n",
              "      <td>0.0</td>\n",
              "      <td>0.0</td>\n",
              "      <td>0.0</td>\n",
              "      <td>0.0</td>\n",
              "      <td>0.0</td>\n",
              "      <td>0.0</td>\n",
              "      <td>0.0</td>\n",
              "      <td>0.0</td>\n",
              "    </tr>\n",
              "    <tr>\n",
              "      <th>4</th>\n",
              "      <td>0.0</td>\n",
              "      <td>0.0</td>\n",
              "      <td>0.0</td>\n",
              "      <td>0.0</td>\n",
              "      <td>0.0</td>\n",
              "      <td>0.0</td>\n",
              "      <td>0.0</td>\n",
              "      <td>0.0</td>\n",
              "      <td>0.0</td>\n",
              "      <td>0.0</td>\n",
              "      <td>0.0</td>\n",
              "      <td>0.0</td>\n",
              "      <td>0.0</td>\n",
              "      <td>0.0</td>\n",
              "      <td>0.0</td>\n",
              "      <td>0.0</td>\n",
              "      <td>0.0</td>\n",
              "    </tr>\n",
              "    <tr>\n",
              "      <th>5</th>\n",
              "      <td>0.0</td>\n",
              "      <td>0.0</td>\n",
              "      <td>0.0</td>\n",
              "      <td>0.0</td>\n",
              "      <td>0.0</td>\n",
              "      <td>0.0</td>\n",
              "      <td>0.0</td>\n",
              "      <td>0.0</td>\n",
              "      <td>0.0</td>\n",
              "      <td>0.0</td>\n",
              "      <td>0.0</td>\n",
              "      <td>0.0</td>\n",
              "      <td>0.0</td>\n",
              "      <td>0.0</td>\n",
              "      <td>0.0</td>\n",
              "      <td>0.0</td>\n",
              "      <td>0.0</td>\n",
              "    </tr>\n",
              "    <tr>\n",
              "      <th>6</th>\n",
              "      <td>0.0</td>\n",
              "      <td>0.0</td>\n",
              "      <td>0.0</td>\n",
              "      <td>0.0</td>\n",
              "      <td>0.0</td>\n",
              "      <td>0.0</td>\n",
              "      <td>0.0</td>\n",
              "      <td>0.0</td>\n",
              "      <td>0.0</td>\n",
              "      <td>0.0</td>\n",
              "      <td>0.0</td>\n",
              "      <td>0.0</td>\n",
              "      <td>0.0</td>\n",
              "      <td>0.0</td>\n",
              "      <td>0.0</td>\n",
              "      <td>0.0</td>\n",
              "      <td>0.0</td>\n",
              "    </tr>\n",
              "    <tr>\n",
              "      <th>7</th>\n",
              "      <td>0.0</td>\n",
              "      <td>0.0</td>\n",
              "      <td>0.0</td>\n",
              "      <td>0.0</td>\n",
              "      <td>0.0</td>\n",
              "      <td>0.0</td>\n",
              "      <td>0.0</td>\n",
              "      <td>0.0</td>\n",
              "      <td>0.0</td>\n",
              "      <td>0.0</td>\n",
              "      <td>0.0</td>\n",
              "      <td>0.0</td>\n",
              "      <td>0.0</td>\n",
              "      <td>0.0</td>\n",
              "      <td>0.0</td>\n",
              "      <td>0.0</td>\n",
              "      <td>0.0</td>\n",
              "    </tr>\n",
              "    <tr>\n",
              "      <th>8</th>\n",
              "      <td>0.0</td>\n",
              "      <td>0.0</td>\n",
              "      <td>0.0</td>\n",
              "      <td>0.0</td>\n",
              "      <td>0.0</td>\n",
              "      <td>0.0</td>\n",
              "      <td>0.0</td>\n",
              "      <td>0.0</td>\n",
              "      <td>0.0</td>\n",
              "      <td>0.0</td>\n",
              "      <td>0.0</td>\n",
              "      <td>0.0</td>\n",
              "      <td>0.0</td>\n",
              "      <td>0.0</td>\n",
              "      <td>0.0</td>\n",
              "      <td>0.0</td>\n",
              "      <td>0.0</td>\n",
              "    </tr>\n",
              "    <tr>\n",
              "      <th>9</th>\n",
              "      <td>0.0</td>\n",
              "      <td>0.0</td>\n",
              "      <td>0.0</td>\n",
              "      <td>0.0</td>\n",
              "      <td>0.0</td>\n",
              "      <td>0.0</td>\n",
              "      <td>0.0</td>\n",
              "      <td>0.0</td>\n",
              "      <td>0.0</td>\n",
              "      <td>0.0</td>\n",
              "      <td>0.0</td>\n",
              "      <td>0.0</td>\n",
              "      <td>0.0</td>\n",
              "      <td>0.0</td>\n",
              "      <td>0.0</td>\n",
              "      <td>0.0</td>\n",
              "      <td>0.0</td>\n",
              "    </tr>\n",
              "  </tbody>\n",
              "</table>\n",
              "</div>"
            ],
            "text/plain": [
              "   text  NOUN  ADP  DET  PROPN  SPACE  NUM  CCONJ  PUNCT  VERB  SYM  ADV  \\\n",
              "0   0.0   0.0  0.0  0.0    0.0    0.0  0.0    0.0    0.0   0.0  0.0  0.0   \n",
              "1   0.0   0.0  0.0  0.0    0.0    0.0  0.0    0.0    0.0   0.0  0.0  0.0   \n",
              "2   0.0   0.0  0.0  0.0    0.0    0.0  0.0    0.0    0.0   0.0  0.0  0.0   \n",
              "3   0.0   0.0  0.0  0.0    0.0    0.0  0.0    0.0    0.0   0.0  0.0  0.0   \n",
              "4   0.0   0.0  0.0  0.0    0.0    0.0  0.0    0.0    0.0   0.0  0.0  0.0   \n",
              "5   0.0   0.0  0.0  0.0    0.0    0.0  0.0    0.0    0.0   0.0  0.0  0.0   \n",
              "6   0.0   0.0  0.0  0.0    0.0    0.0  0.0    0.0    0.0   0.0  0.0  0.0   \n",
              "7   0.0   0.0  0.0  0.0    0.0    0.0  0.0    0.0    0.0   0.0  0.0  0.0   \n",
              "8   0.0   0.0  0.0  0.0    0.0    0.0  0.0    0.0    0.0   0.0  0.0  0.0   \n",
              "9   0.0   0.0  0.0  0.0    0.0    0.0  0.0    0.0    0.0   0.0  0.0  0.0   \n",
              "\n",
              "   PRON  AUX  ADJ  PART  SCONJ  \n",
              "0   0.0  0.0  0.0   0.0    0.0  \n",
              "1   0.0  0.0  0.0   0.0    0.0  \n",
              "2   0.0  0.0  0.0   0.0    0.0  \n",
              "3   0.0  0.0  0.0   0.0    0.0  \n",
              "4   0.0  0.0  0.0   0.0    0.0  \n",
              "5   0.0  0.0  0.0   0.0    0.0  \n",
              "6   0.0  0.0  0.0   0.0    0.0  \n",
              "7   0.0  0.0  0.0   0.0    0.0  \n",
              "8   0.0  0.0  0.0   0.0    0.0  \n",
              "9   0.0  0.0  0.0   0.0    0.0  "
            ]
          },
          "metadata": {
            "tags": []
          },
          "execution_count": 133
        }
      ]
    },
    {
      "cell_type": "code",
      "metadata": {
        "ExecuteTime": {
          "end_time": "2021-03-31T05:50:57.313768Z",
          "start_time": "2021-03-31T05:50:57.211856Z"
        },
        "id": "designed-mobile"
      },
      "source": [
        ""
      ],
      "id": "designed-mobile",
      "execution_count": null,
      "outputs": []
    },
    {
      "cell_type": "code",
      "metadata": {
        "ExecuteTime": {
          "end_time": "2021-03-31T05:50:57.385440Z",
          "start_time": "2021-03-31T05:50:57.369822Z"
        },
        "scrolled": true,
        "id": "rural-ceremony",
        "outputId": "8ce679c7-244f-47dc-fca1-94b57286e7c7"
      },
      "source": [
        "data"
      ],
      "id": "rural-ceremony",
      "execution_count": null,
      "outputs": [
        {
          "output_type": "execute_result",
          "data": {
            "text/html": [
              "<div>\n",
              "<style scoped>\n",
              "    .dataframe tbody tr th:only-of-type {\n",
              "        vertical-align: middle;\n",
              "    }\n",
              "\n",
              "    .dataframe tbody tr th {\n",
              "        vertical-align: top;\n",
              "    }\n",
              "\n",
              "    .dataframe thead th {\n",
              "        text-align: right;\n",
              "    }\n",
              "</style>\n",
              "<table border=\"1\" class=\"dataframe\">\n",
              "  <thead>\n",
              "    <tr style=\"text-align: right;\">\n",
              "      <th></th>\n",
              "      <th>text</th>\n",
              "      <th>NOUN</th>\n",
              "      <th>ADP</th>\n",
              "      <th>DET</th>\n",
              "      <th>PROPN</th>\n",
              "      <th>SPACE</th>\n",
              "      <th>NUM</th>\n",
              "      <th>CCONJ</th>\n",
              "      <th>PUNCT</th>\n",
              "      <th>VERB</th>\n",
              "      <th>SYM</th>\n",
              "      <th>ADV</th>\n",
              "      <th>PRON</th>\n",
              "      <th>AUX</th>\n",
              "      <th>ADJ</th>\n",
              "      <th>PART</th>\n",
              "      <th>SCONJ</th>\n",
              "    </tr>\n",
              "  </thead>\n",
              "  <tbody>\n",
              "    <tr>\n",
              "      <th>0</th>\n",
              "      <td>Kickers on my watchlist XIDE TIT SOQ PNK CPW B...</td>\n",
              "      <td>7.0</td>\n",
              "      <td>1.0</td>\n",
              "      <td>1.0</td>\n",
              "      <td>7.0</td>\n",
              "      <td>1.0</td>\n",
              "      <td>2.0</td>\n",
              "      <td>1.0</td>\n",
              "      <td>1.0</td>\n",
              "      <td>1.0</td>\n",
              "      <td>0.0</td>\n",
              "      <td>0.0</td>\n",
              "      <td>0.0</td>\n",
              "      <td>0.0</td>\n",
              "      <td>0.0</td>\n",
              "      <td>0.0</td>\n",
              "      <td>0.0</td>\n",
              "    </tr>\n",
              "    <tr>\n",
              "      <th>1</th>\n",
              "      <td>user: AAP MOVIE. 55% return for the FEA/GEED i...</td>\n",
              "      <td>6.0</td>\n",
              "      <td>2.0</td>\n",
              "      <td>2.0</td>\n",
              "      <td>5.0</td>\n",
              "      <td>2.0</td>\n",
              "      <td>2.0</td>\n",
              "      <td>0.0</td>\n",
              "      <td>4.0</td>\n",
              "      <td>0.0</td>\n",
              "      <td>1.0</td>\n",
              "      <td>1.0</td>\n",
              "      <td>0.0</td>\n",
              "      <td>0.0</td>\n",
              "      <td>0.0</td>\n",
              "      <td>0.0</td>\n",
              "      <td>0.0</td>\n",
              "    </tr>\n",
              "    <tr>\n",
              "      <th>2</th>\n",
              "      <td>user I'd be afraid to short AMZN - they are lo...</td>\n",
              "      <td>4.0</td>\n",
              "      <td>1.0</td>\n",
              "      <td>2.0</td>\n",
              "      <td>2.0</td>\n",
              "      <td>0.0</td>\n",
              "      <td>0.0</td>\n",
              "      <td>1.0</td>\n",
              "      <td>5.0</td>\n",
              "      <td>2.0</td>\n",
              "      <td>0.0</td>\n",
              "      <td>0.0</td>\n",
              "      <td>2.0</td>\n",
              "      <td>2.0</td>\n",
              "      <td>3.0</td>\n",
              "      <td>1.0</td>\n",
              "      <td>2.0</td>\n",
              "    </tr>\n",
              "    <tr>\n",
              "      <th>3</th>\n",
              "      <td>MNTA Over 12.00</td>\n",
              "      <td>0.0</td>\n",
              "      <td>1.0</td>\n",
              "      <td>0.0</td>\n",
              "      <td>1.0</td>\n",
              "      <td>1.0</td>\n",
              "      <td>1.0</td>\n",
              "      <td>0.0</td>\n",
              "      <td>0.0</td>\n",
              "      <td>0.0</td>\n",
              "      <td>0.0</td>\n",
              "      <td>0.0</td>\n",
              "      <td>0.0</td>\n",
              "      <td>0.0</td>\n",
              "      <td>0.0</td>\n",
              "      <td>0.0</td>\n",
              "      <td>0.0</td>\n",
              "    </tr>\n",
              "    <tr>\n",
              "      <th>4</th>\n",
              "      <td>OI  Over 21.37</td>\n",
              "      <td>0.0</td>\n",
              "      <td>1.0</td>\n",
              "      <td>0.0</td>\n",
              "      <td>1.0</td>\n",
              "      <td>2.0</td>\n",
              "      <td>1.0</td>\n",
              "      <td>0.0</td>\n",
              "      <td>0.0</td>\n",
              "      <td>0.0</td>\n",
              "      <td>0.0</td>\n",
              "      <td>0.0</td>\n",
              "      <td>0.0</td>\n",
              "      <td>0.0</td>\n",
              "      <td>0.0</td>\n",
              "      <td>0.0</td>\n",
              "      <td>0.0</td>\n",
              "    </tr>\n",
              "    <tr>\n",
              "      <th>5</th>\n",
              "      <td>PGNX  Over 3.04</td>\n",
              "      <td>0.0</td>\n",
              "      <td>1.0</td>\n",
              "      <td>0.0</td>\n",
              "      <td>1.0</td>\n",
              "      <td>2.0</td>\n",
              "      <td>1.0</td>\n",
              "      <td>0.0</td>\n",
              "      <td>0.0</td>\n",
              "      <td>0.0</td>\n",
              "      <td>0.0</td>\n",
              "      <td>0.0</td>\n",
              "      <td>0.0</td>\n",
              "      <td>0.0</td>\n",
              "      <td>0.0</td>\n",
              "      <td>0.0</td>\n",
              "      <td>0.0</td>\n",
              "    </tr>\n",
              "    <tr>\n",
              "      <th>6</th>\n",
              "      <td>AAP - user if so then the current downtrend wi...</td>\n",
              "      <td>7.0</td>\n",
              "      <td>1.0</td>\n",
              "      <td>2.0</td>\n",
              "      <td>0.0</td>\n",
              "      <td>0.0</td>\n",
              "      <td>0.0</td>\n",
              "      <td>0.0</td>\n",
              "      <td>5.0</td>\n",
              "      <td>2.0</td>\n",
              "      <td>0.0</td>\n",
              "      <td>4.0</td>\n",
              "      <td>0.0</td>\n",
              "      <td>0.0</td>\n",
              "      <td>3.0</td>\n",
              "      <td>0.0</td>\n",
              "      <td>1.0</td>\n",
              "    </tr>\n",
              "    <tr>\n",
              "      <th>7</th>\n",
              "      <td>Monday's relative weakness. NYX WIN TIE TAP IC...</td>\n",
              "      <td>3.0</td>\n",
              "      <td>0.0</td>\n",
              "      <td>0.0</td>\n",
              "      <td>10.0</td>\n",
              "      <td>1.0</td>\n",
              "      <td>0.0</td>\n",
              "      <td>0.0</td>\n",
              "      <td>1.0</td>\n",
              "      <td>0.0</td>\n",
              "      <td>0.0</td>\n",
              "      <td>0.0</td>\n",
              "      <td>0.0</td>\n",
              "      <td>0.0</td>\n",
              "      <td>1.0</td>\n",
              "      <td>1.0</td>\n",
              "      <td>0.0</td>\n",
              "    </tr>\n",
              "    <tr>\n",
              "      <th>8</th>\n",
              "      <td>GOOG - ower trend line channel test &amp; volume s...</td>\n",
              "      <td>6.0</td>\n",
              "      <td>0.0</td>\n",
              "      <td>0.0</td>\n",
              "      <td>2.0</td>\n",
              "      <td>1.0</td>\n",
              "      <td>0.0</td>\n",
              "      <td>1.0</td>\n",
              "      <td>2.0</td>\n",
              "      <td>0.0</td>\n",
              "      <td>0.0</td>\n",
              "      <td>0.0</td>\n",
              "      <td>0.0</td>\n",
              "      <td>0.0</td>\n",
              "      <td>0.0</td>\n",
              "      <td>0.0</td>\n",
              "      <td>0.0</td>\n",
              "    </tr>\n",
              "    <tr>\n",
              "      <th>9</th>\n",
              "      <td>AAP will watch tomorrow for ONG entry.</td>\n",
              "      <td>2.0</td>\n",
              "      <td>1.0</td>\n",
              "      <td>0.0</td>\n",
              "      <td>2.0</td>\n",
              "      <td>0.0</td>\n",
              "      <td>0.0</td>\n",
              "      <td>0.0</td>\n",
              "      <td>1.0</td>\n",
              "      <td>2.0</td>\n",
              "      <td>0.0</td>\n",
              "      <td>0.0</td>\n",
              "      <td>0.0</td>\n",
              "      <td>0.0</td>\n",
              "      <td>0.0</td>\n",
              "      <td>0.0</td>\n",
              "      <td>0.0</td>\n",
              "    </tr>\n",
              "  </tbody>\n",
              "</table>\n",
              "</div>"
            ],
            "text/plain": [
              "                                                text  NOUN  ADP  DET  PROPN  \\\n",
              "0  Kickers on my watchlist XIDE TIT SOQ PNK CPW B...   7.0  1.0  1.0    7.0   \n",
              "1  user: AAP MOVIE. 55% return for the FEA/GEED i...   6.0  2.0  2.0    5.0   \n",
              "2  user I'd be afraid to short AMZN - they are lo...   4.0  1.0  2.0    2.0   \n",
              "3                                  MNTA Over 12.00     0.0  1.0  0.0    1.0   \n",
              "4                                   OI  Over 21.37     0.0  1.0  0.0    1.0   \n",
              "5                                  PGNX  Over 3.04     0.0  1.0  0.0    1.0   \n",
              "6  AAP - user if so then the current downtrend wi...   7.0  1.0  2.0    0.0   \n",
              "7  Monday's relative weakness. NYX WIN TIE TAP IC...   3.0  0.0  0.0   10.0   \n",
              "8  GOOG - ower trend line channel test & volume s...   6.0  0.0  0.0    2.0   \n",
              "9             AAP will watch tomorrow for ONG entry.   2.0  1.0  0.0    2.0   \n",
              "\n",
              "   SPACE  NUM  CCONJ  PUNCT  VERB  SYM  ADV  PRON  AUX  ADJ  PART  SCONJ  \n",
              "0    1.0  2.0    1.0    1.0   1.0  0.0  0.0   0.0  0.0  0.0   0.0    0.0  \n",
              "1    2.0  2.0    0.0    4.0   0.0  1.0  1.0   0.0  0.0  0.0   0.0    0.0  \n",
              "2    0.0  0.0    1.0    5.0   2.0  0.0  0.0   2.0  2.0  3.0   1.0    2.0  \n",
              "3    1.0  1.0    0.0    0.0   0.0  0.0  0.0   0.0  0.0  0.0   0.0    0.0  \n",
              "4    2.0  1.0    0.0    0.0   0.0  0.0  0.0   0.0  0.0  0.0   0.0    0.0  \n",
              "5    2.0  1.0    0.0    0.0   0.0  0.0  0.0   0.0  0.0  0.0   0.0    0.0  \n",
              "6    0.0  0.0    0.0    5.0   2.0  0.0  4.0   0.0  0.0  3.0   0.0    1.0  \n",
              "7    1.0  0.0    0.0    1.0   0.0  0.0  0.0   0.0  0.0  1.0   1.0    0.0  \n",
              "8    1.0  0.0    1.0    2.0   0.0  0.0  0.0   0.0  0.0  0.0   0.0    0.0  \n",
              "9    0.0  0.0    0.0    1.0   2.0  0.0  0.0   0.0  0.0  0.0   0.0    0.0  "
            ]
          },
          "metadata": {
            "tags": []
          },
          "execution_count": 135
        }
      ]
    },
    {
      "cell_type": "markdown",
      "metadata": {
        "id": "recorded-allowance"
      },
      "source": [
        "## Named Entities Recognition\n",
        "\n",
        "**Exercise 1.8**\n",
        "\n",
        "In the Twitter dataset sample above, count how many entities are in each tweet."
      ],
      "id": "recorded-allowance"
    },
    {
      "cell_type": "code",
      "metadata": {
        "ExecuteTime": {
          "end_time": "2021-03-31T06:19:13.644167Z",
          "start_time": "2021-03-31T06:19:13.559490Z"
        },
        "id": "smooth-chrome"
      },
      "source": [
        "# your code here\n",
        "df[\"ents\"] = # your code here"
      ],
      "id": "smooth-chrome",
      "execution_count": null,
      "outputs": []
    },
    {
      "cell_type": "code",
      "metadata": {
        "ExecuteTime": {
          "end_time": "2021-03-31T06:18:11.584150Z",
          "start_time": "2021-03-31T06:18:11.571558Z"
        },
        "id": "noticed-honor",
        "outputId": "845455ad-3448-4787-ea77-ec83655f9bee"
      },
      "source": [
        "df"
      ],
      "id": "noticed-honor",
      "execution_count": null,
      "outputs": [
        {
          "output_type": "execute_result",
          "data": {
            "text/html": [
              "<div>\n",
              "<style scoped>\n",
              "    .dataframe tbody tr th:only-of-type {\n",
              "        vertical-align: middle;\n",
              "    }\n",
              "\n",
              "    .dataframe tbody tr th {\n",
              "        vertical-align: top;\n",
              "    }\n",
              "\n",
              "    .dataframe thead th {\n",
              "        text-align: right;\n",
              "    }\n",
              "</style>\n",
              "<table border=\"1\" class=\"dataframe\">\n",
              "  <thead>\n",
              "    <tr style=\"text-align: right;\">\n",
              "      <th></th>\n",
              "      <th>Text</th>\n",
              "      <th>Sentiment</th>\n",
              "      <th>ents</th>\n",
              "    </tr>\n",
              "  </thead>\n",
              "  <tbody>\n",
              "    <tr>\n",
              "      <th>0</th>\n",
              "      <td>Kickers on my watchlist XIDE TIT SOQ PNK CPW B...</td>\n",
              "      <td>1</td>\n",
              "      <td>3</td>\n",
              "    </tr>\n",
              "    <tr>\n",
              "      <th>1</th>\n",
              "      <td>user: AAP MOVIE. 55% return for the FEA/GEED i...</td>\n",
              "      <td>1</td>\n",
              "      <td>5</td>\n",
              "    </tr>\n",
              "    <tr>\n",
              "      <th>2</th>\n",
              "      <td>user I'd be afraid to short AMZN - they are lo...</td>\n",
              "      <td>1</td>\n",
              "      <td>1</td>\n",
              "    </tr>\n",
              "    <tr>\n",
              "      <th>3</th>\n",
              "      <td>MNTA Over 12.00</td>\n",
              "      <td>1</td>\n",
              "      <td>1</td>\n",
              "    </tr>\n",
              "    <tr>\n",
              "      <th>4</th>\n",
              "      <td>OI  Over 21.37</td>\n",
              "      <td>1</td>\n",
              "      <td>1</td>\n",
              "    </tr>\n",
              "    <tr>\n",
              "      <th>5</th>\n",
              "      <td>PGNX  Over 3.04</td>\n",
              "      <td>1</td>\n",
              "      <td>2</td>\n",
              "    </tr>\n",
              "    <tr>\n",
              "      <th>6</th>\n",
              "      <td>AAP - user if so then the current downtrend wi...</td>\n",
              "      <td>-1</td>\n",
              "      <td>1</td>\n",
              "    </tr>\n",
              "    <tr>\n",
              "      <th>7</th>\n",
              "      <td>Monday's relative weakness. NYX WIN TIE TAP IC...</td>\n",
              "      <td>-1</td>\n",
              "      <td>3</td>\n",
              "    </tr>\n",
              "    <tr>\n",
              "      <th>8</th>\n",
              "      <td>GOOG - ower trend line channel test &amp; volume s...</td>\n",
              "      <td>1</td>\n",
              "      <td>1</td>\n",
              "    </tr>\n",
              "    <tr>\n",
              "      <th>9</th>\n",
              "      <td>AAP will watch tomorrow for ONG entry.</td>\n",
              "      <td>1</td>\n",
              "      <td>3</td>\n",
              "    </tr>\n",
              "  </tbody>\n",
              "</table>\n",
              "</div>"
            ],
            "text/plain": [
              "                                                Text  Sentiment  ents\n",
              "0  Kickers on my watchlist XIDE TIT SOQ PNK CPW B...          1     3\n",
              "1  user: AAP MOVIE. 55% return for the FEA/GEED i...          1     5\n",
              "2  user I'd be afraid to short AMZN - they are lo...          1     1\n",
              "3                                  MNTA Over 12.00            1     1\n",
              "4                                   OI  Over 21.37            1     1\n",
              "5                                  PGNX  Over 3.04            1     2\n",
              "6  AAP - user if so then the current downtrend wi...         -1     1\n",
              "7  Monday's relative weakness. NYX WIN TIE TAP IC...         -1     3\n",
              "8  GOOG - ower trend line channel test & volume s...          1     1\n",
              "9             AAP will watch tomorrow for ONG entry.          1     3"
            ]
          },
          "metadata": {
            "tags": []
          },
          "execution_count": 150
        }
      ]
    },
    {
      "cell_type": "markdown",
      "metadata": {
        "ExecuteTime": {
          "end_time": "2021-03-31T06:18:48.877669Z",
          "start_time": "2021-03-31T06:18:48.859874Z"
        },
        "id": "southeast-method"
      },
      "source": [
        "**Exercise 1.9**\n",
        "\n",
        "In the Twitter dataset sample above, create an extra column with the name of the Organization entities in the tweet."
      ],
      "id": "southeast-method"
    },
    {
      "cell_type": "code",
      "metadata": {
        "ExecuteTime": {
          "end_time": "2021-03-31T06:20:28.240476Z",
          "start_time": "2021-03-31T06:20:28.227574Z"
        },
        "id": "ceramic-accordance"
      },
      "source": [
        "# your code here"
      ],
      "id": "ceramic-accordance",
      "execution_count": null,
      "outputs": []
    },
    {
      "cell_type": "code",
      "metadata": {
        "ExecuteTime": {
          "end_time": "2021-03-31T06:20:50.058745Z",
          "start_time": "2021-03-31T06:20:49.970719Z"
        },
        "id": "cubic-favor"
      },
      "source": [
        "df[\"Organizations\"] = # your code here"
      ],
      "id": "cubic-favor",
      "execution_count": null,
      "outputs": []
    },
    {
      "cell_type": "code",
      "metadata": {
        "ExecuteTime": {
          "end_time": "2021-03-31T06:20:51.522613Z",
          "start_time": "2021-03-31T06:20:51.500337Z"
        },
        "id": "illegal-monthly",
        "outputId": "942723ea-9f76-44c5-9157-5996a6f68453"
      },
      "source": [
        "df"
      ],
      "id": "illegal-monthly",
      "execution_count": null,
      "outputs": [
        {
          "output_type": "execute_result",
          "data": {
            "text/html": [
              "<div>\n",
              "<style scoped>\n",
              "    .dataframe tbody tr th:only-of-type {\n",
              "        vertical-align: middle;\n",
              "    }\n",
              "\n",
              "    .dataframe tbody tr th {\n",
              "        vertical-align: top;\n",
              "    }\n",
              "\n",
              "    .dataframe thead th {\n",
              "        text-align: right;\n",
              "    }\n",
              "</style>\n",
              "<table border=\"1\" class=\"dataframe\">\n",
              "  <thead>\n",
              "    <tr style=\"text-align: right;\">\n",
              "      <th></th>\n",
              "      <th>Text</th>\n",
              "      <th>Sentiment</th>\n",
              "      <th>ents</th>\n",
              "      <th>Organizations</th>\n",
              "    </tr>\n",
              "  </thead>\n",
              "  <tbody>\n",
              "    <tr>\n",
              "      <th>0</th>\n",
              "      <td>Kickers on my watchlist XIDE TIT SOQ PNK CPW B...</td>\n",
              "      <td>1</td>\n",
              "      <td>3</td>\n",
              "      <td>[]</td>\n",
              "    </tr>\n",
              "    <tr>\n",
              "      <th>1</th>\n",
              "      <td>user: AAP MOVIE. 55% return for the FEA/GEED i...</td>\n",
              "      <td>1</td>\n",
              "      <td>5</td>\n",
              "      <td>[AAP MOVIE, FEA/GEED]</td>\n",
              "    </tr>\n",
              "    <tr>\n",
              "      <th>2</th>\n",
              "      <td>user I'd be afraid to short AMZN - they are lo...</td>\n",
              "      <td>1</td>\n",
              "      <td>1</td>\n",
              "      <td>[eBooks]</td>\n",
              "    </tr>\n",
              "    <tr>\n",
              "      <th>3</th>\n",
              "      <td>MNTA Over 12.00</td>\n",
              "      <td>1</td>\n",
              "      <td>1</td>\n",
              "      <td>[]</td>\n",
              "    </tr>\n",
              "    <tr>\n",
              "      <th>4</th>\n",
              "      <td>OI  Over 21.37</td>\n",
              "      <td>1</td>\n",
              "      <td>1</td>\n",
              "      <td>[]</td>\n",
              "    </tr>\n",
              "    <tr>\n",
              "      <th>5</th>\n",
              "      <td>PGNX  Over 3.04</td>\n",
              "      <td>1</td>\n",
              "      <td>2</td>\n",
              "      <td>[PGNX]</td>\n",
              "    </tr>\n",
              "    <tr>\n",
              "      <th>6</th>\n",
              "      <td>AAP - user if so then the current downtrend wi...</td>\n",
              "      <td>-1</td>\n",
              "      <td>1</td>\n",
              "      <td>[AAP]</td>\n",
              "    </tr>\n",
              "    <tr>\n",
              "      <th>7</th>\n",
              "      <td>Monday's relative weakness. NYX WIN TIE TAP IC...</td>\n",
              "      <td>-1</td>\n",
              "      <td>3</td>\n",
              "      <td>[NYX]</td>\n",
              "    </tr>\n",
              "    <tr>\n",
              "      <th>8</th>\n",
              "      <td>GOOG - ower trend line channel test &amp; volume s...</td>\n",
              "      <td>1</td>\n",
              "      <td>1</td>\n",
              "      <td>[GOOG]</td>\n",
              "    </tr>\n",
              "    <tr>\n",
              "      <th>9</th>\n",
              "      <td>AAP will watch tomorrow for ONG entry.</td>\n",
              "      <td>1</td>\n",
              "      <td>3</td>\n",
              "      <td>[AAP, ONG]</td>\n",
              "    </tr>\n",
              "  </tbody>\n",
              "</table>\n",
              "</div>"
            ],
            "text/plain": [
              "                                                Text  Sentiment  ents  \\\n",
              "0  Kickers on my watchlist XIDE TIT SOQ PNK CPW B...          1     3   \n",
              "1  user: AAP MOVIE. 55% return for the FEA/GEED i...          1     5   \n",
              "2  user I'd be afraid to short AMZN - they are lo...          1     1   \n",
              "3                                  MNTA Over 12.00            1     1   \n",
              "4                                   OI  Over 21.37            1     1   \n",
              "5                                  PGNX  Over 3.04            1     2   \n",
              "6  AAP - user if so then the current downtrend wi...         -1     1   \n",
              "7  Monday's relative weakness. NYX WIN TIE TAP IC...         -1     3   \n",
              "8  GOOG - ower trend line channel test & volume s...          1     1   \n",
              "9             AAP will watch tomorrow for ONG entry.          1     3   \n",
              "\n",
              "           Organizations  \n",
              "0                     []  \n",
              "1  [AAP MOVIE, FEA/GEED]  \n",
              "2               [eBooks]  \n",
              "3                     []  \n",
              "4                     []  \n",
              "5                 [PGNX]  \n",
              "6                  [AAP]  \n",
              "7                  [NYX]  \n",
              "8                 [GOOG]  \n",
              "9             [AAP, ONG]  "
            ]
          },
          "metadata": {
            "tags": []
          },
          "execution_count": 155
        }
      ]
    },
    {
      "cell_type": "markdown",
      "metadata": {
        "id": "lesbian-island"
      },
      "source": [
        "## Matcher"
      ],
      "id": "lesbian-island"
    },
    {
      "cell_type": "markdown",
      "metadata": {
        "id": "aerial-guyana"
      },
      "source": [
        "**Exercise 2.0**\n",
        "\n",
        "You have scraped many websites collecting a list of users but written in many different form: someone has an email like:\n",
        "\n",
        "```\n",
        "username: antonio\n",
        "user: antonio.marsella@email.com\n",
        "USER:antonio\n",
        "USERNAME: antonio\n",
        "```\n",
        "How would you match all of them using a spaCy matcher?`"
      ],
      "id": "aerial-guyana"
    },
    {
      "cell_type": "code",
      "metadata": {
        "id": "little-appendix"
      },
      "source": [
        "text = \"\"\"\n",
        "username: antonio\n",
        "user: antonio.marsella@email.com\n",
        "USER:antonio\n",
        "USERNAME: antonio\n",
        "\"\"\""
      ],
      "id": "little-appendix",
      "execution_count": null,
      "outputs": []
    },
    {
      "cell_type": "code",
      "metadata": {
        "ExecuteTime": {
          "end_time": "2021-03-31T06:48:55.806530Z",
          "start_time": "2021-03-31T06:48:55.729472Z"
        },
        "id": "domestic-footage",
        "outputId": "91543429-0620-4a4c-95f7-8422aee74481"
      },
      "source": [
        ""
      ],
      "id": "domestic-footage",
      "execution_count": null,
      "outputs": [
        {
          "output_type": "stream",
          "text": [
            "USERNAME 1 4 username: antonio\n",
            "USERNAME 5 8 user: antonio.marsella@email.com\n",
            "USERNAME 9 12 USER:antonio\n",
            "USERNAME 13 16 USERNAME: antonio\n"
          ],
          "name": "stdout"
        }
      ]
    },
    {
      "cell_type": "markdown",
      "metadata": {
        "id": "endless-speaker"
      },
      "source": [
        ""
      ],
      "id": "endless-speaker"
    }
  ]
}