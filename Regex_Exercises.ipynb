{
  "nbformat": 4,
  "nbformat_minor": 5,
  "metadata": {
    "kernelspec": {
      "display_name": "Python 3",
      "language": "python",
      "name": "python3"
    },
    "language_info": {
      "codemirror_mode": {
        "name": "ipython",
        "version": 3
      },
      "file_extension": ".py",
      "mimetype": "text/x-python",
      "name": "python",
      "nbconvert_exporter": "python",
      "pygments_lexer": "ipython3",
      "version": "3.9.1"
    },
    "varInspector": {
      "cols": {
        "lenName": 16,
        "lenType": 16,
        "lenVar": 40
      },
      "kernels_config": {
        "python": {
          "delete_cmd_postfix": "",
          "delete_cmd_prefix": "del ",
          "library": "var_list.py",
          "varRefreshCmd": "print(var_dic_list())"
        },
        "r": {
          "delete_cmd_postfix": ") ",
          "delete_cmd_prefix": "rm(",
          "library": "var_list.r",
          "varRefreshCmd": "cat(var_dic_list()) "
        }
      },
      "types_to_exclude": [
        "module",
        "function",
        "builtin_function_or_method",
        "instance",
        "_Feature"
      ],
      "window_display": false
    },
    "colab": {
      "name": "Regex Exercises.ipynb",
      "provenance": [],
      "include_colab_link": true
    }
  },
  "cells": [
    {
      "cell_type": "markdown",
      "metadata": {
        "id": "view-in-github",
        "colab_type": "text"
      },
      "source": [
        "<a href=\"https://colab.research.google.com/github/iaanimashaun/Strive-School-Assigments/blob/main/Regex_Exercises.ipynb\" target=\"_parent\"><img src=\"https://colab.research.google.com/assets/colab-badge.svg\" alt=\"Open In Colab\"/></a>"
      ]
    },
    {
      "cell_type": "markdown",
      "metadata": {
        "id": "vital-selection"
      },
      "source": [
        "### Quick recap\n",
        "\n",
        "\n",
        "| Symbols | Explaination                                                               | Example        |\n",
        "|---------|----------------------------------------------------------------------------|----------------|\n",
        "| `[]`    | A set of characters                                                        | \"[a-m]\"        |\n",
        "| `\\`     | Signals a special sequence (can also be used to escape special characters) | \"\\d\"           |\n",
        "| `.`     | Any character (except newline character)                                   | \"he..o\"        |\n",
        "| `^`     | Starts with                                                                | \"^hello\"       |\n",
        "| `$`     | Ends with                                                                  | \"world$\"       |\n",
        "| `*`     | Zero or more occurrences                                                   | \"aix*\"         |\n",
        "| `+`     | One or more occurrences                                                    | \"aix+\"         |\n",
        "| `{}`    | Exactly the specified number of occurrences                                | \"al{2}\"        |\n",
        "| `\\|`    | Either or                                                                  | \"falls\\|stays\" |\n",
        "| `()`    | Capture and group                                                          |                |\n",
        "\n",
        "**Deeper recap:**\n",
        "\n",
        "| Code | Meaning                                |\n",
        "|------|----------------------------------------|\n",
        "| \\d   | a digit                                |\n",
        "| \\D   | a non-digit                            |\n",
        "| \\s   | whitespace (tab, space, newline, etc.) |\n",
        "| \\S   | non-whitespace                         |\n",
        "| \\w   | alphanumeric                           |\n",
        "| \\W   | non-alphanumeric                       |\n",
        "| [abc] | any of a,b, or c                      |\n",
        "| [^abc] | not a,b, or c                        |\n",
        "| [a-g] | characters between a & g              |\n",
        "\n",
        "**Anchors**\n",
        "\n",
        "`\\b`\n",
        "Matches the empty string, but only at the beginning or end of a word. A word is defined as a sequence of word characters. Note that formally, \\b is defined as the boundary between a \\w and a \\W character (or vice versa), or between \\w and the beginning/end of the string. This means that r'\\bfoo\\b' matches 'foo', 'foo.', '(foo)', 'bar foo baz' but not 'foobar' or 'foo3'.\n",
        "\n",
        "`\\B`\n",
        "\n",
        "Matches the empty string, but only when **it is not at the beginning or end of a word**. This means that r'py\\B' matches 'python', 'py3', 'py2', but not 'py', 'py.', or 'py!'. \\B is just the opposite of \\b.\n",
        "\n",
        "\n",
        "**Escaped characters**\n",
        "\n",
        "| Class | Explanation |\n",
        "|:-----:|:-----------:|\n",
        "| \\\\. \\\\* \\\\\\\\ | escaped special characters |\n",
        "| \\t \\n \\r | tab, linefeed, carriage return |\n",
        "\n",
        "**Repetitions**\n",
        "\n",
        "1.) A pattern followed by the meta-character * is repeated zero or more times. \n",
        "\n",
        "2.) Replace the * with + and the pattern must appear at least once. \n",
        "\n",
        "3.) Using ? means the pattern appears zero or one time. \n",
        "\n",
        "4.) For a specific number of occurrences, use {m} after the pattern, where m is replaced with the number of times         the pattern should repeat. \n",
        "\n",
        "5.) Use {m,n} where m is the minimum number of repetitions and n is the maximum. Leaving out n ({m,}) means the           value appears at least m times, with no maximum.\n",
        "\n",
        "\n",
        "**Summary Table**\n",
        "\n",
        "\n",
        "| Symbol   |      Meaning      |\n",
        "|:----------:|:-------------:|\n",
        "| * |  zero or more times |\n",
        "| + |    at least once   |\n",
        "| ? | zero or one time |\n",
        "| {m} | exactly m times |\n",
        "| {m,n} | m for minimum reps, n for maximum. |\n",
        "| {m,} | at least m times, no maximum|\n",
        "\n",
        "**Lookaround**\n",
        "\n",
        "\n",
        "| Lookaround | Name                | What it Does                                                                         |\n",
        "|------------|---------------------|--------------------------------------------------------------------------------------|\n",
        "| (?=foo)    | Lookahead           | Asserts that what immediately follows the current position in the string is foo      |\n",
        "| (?<=foo)   | Lookbehind          | Asserts that what immediately precedes the current position in the string is foo     |\n",
        "| (?!foo)    | Negative Lookahead  | Asserts that what immediately follows the current position in the string is not foo  |\n",
        "| (?<!foo)   | Negative Lookbehind | Asserts that what immediately precedes the current position in the string is not foo |\n",
        "\n",
        "More on https://www.regular-expressions.info/ .\n"
      ],
      "id": "vital-selection"
    },
    {
      "cell_type": "markdown",
      "metadata": {
        "id": "conventional-brook"
      },
      "source": [
        "**Exercise 1.0**\n",
        "\n",
        "Check if the given sentence contains \"ab\" in it using regex."
      ],
      "id": "conventional-brook"
    },
    {
      "cell_type": "code",
      "metadata": {
        "colab": {
          "base_uri": "https://localhost:8080/"
        },
        "id": "behavioral-newcastle",
        "outputId": "a16f3b4a-214a-442b-f3d0-4095e667527f"
      },
      "source": [
        "import re\n",
        "text = \"This is exercise is the abc of the regex\"\n",
        "# your code here\n",
        "re.search(r'ab', text)"
      ],
      "id": "behavioral-newcastle",
      "execution_count": 60,
      "outputs": [
        {
          "output_type": "execute_result",
          "data": {
            "text/plain": [
              "<re.Match object; span=(24, 26), match='ab'>"
            ]
          },
          "metadata": {
            "tags": []
          },
          "execution_count": 60
        }
      ]
    },
    {
      "cell_type": "markdown",
      "metadata": {
        "id": "engaging-blond"
      },
      "source": [
        "**Exercise 1.1**\n",
        "\n",
        "Check which of the given sentences contains \"ab\" in it."
      ],
      "id": "engaging-blond"
    },
    {
      "cell_type": "code",
      "metadata": {
        "colab": {
          "base_uri": "https://localhost:8080/"
        },
        "id": "million-smart",
        "outputId": "883a6d41-5a5d-4499-d7b4-213ca5b09c55"
      },
      "source": [
        "texts = [\"This string doesn't contain what you are looking for\", \n",
        "         \"This string contains abc\", \n",
        "         \"Everyab wordab endab withab whatab yourab lookingab forab.\"]\n",
        "\n",
        "for i, text in enumerate(texts):\n",
        "    if re.search('ab', text):# your code here\n",
        "\n",
        "        print(f\"Sentence {i} contains the pattern.\")\n",
        "    else:\n",
        "        print(f\"Sentence {i} doesn't contain the pattern.\")    "
      ],
      "id": "million-smart",
      "execution_count": 7,
      "outputs": [
        {
          "output_type": "stream",
          "text": [
            "Sentence 0 doesn't contain the pattern.\n",
            "Sentence 1 contains the pattern.\n",
            "Sentence 2 contains the pattern.\n"
          ],
          "name": "stdout"
        }
      ]
    },
    {
      "cell_type": "markdown",
      "metadata": {
        "id": "prescribed-programming"
      },
      "source": [
        "**Exercise 1.2**\n",
        "\n",
        "Check which of the given sentences contains digits in it."
      ],
      "id": "prescribed-programming"
    },
    {
      "cell_type": "code",
      "metadata": {
        "colab": {
          "base_uri": "https://localhost:8080/"
        },
        "id": "possible-trace",
        "outputId": "1471fa6c-458d-4b47-f129-699590e809ac"
      },
      "source": [
        "texts = [ \"1'm wr1t1ng us1ng numb3r5 4nd of l3tt3r5.\",\n",
        "        \"This string doesn't contain any number\", \n",
        "         \"This string contains 4 numbers: 1, 2 and 3\"]\n",
        "\n",
        "for i, text in enumerate(texts):\n",
        "    if re.search(r'\\d', text):# your code here\n",
        "        print(f\"Sentence {i} contains the pattern.\")\n",
        "    else:\n",
        "        print(f\"Sentence {i} doesn't contain the pattern.\")    "
      ],
      "id": "possible-trace",
      "execution_count": 17,
      "outputs": [
        {
          "output_type": "stream",
          "text": [
            "Sentence 0 contains the pattern.\n",
            "Sentence 1 doesn't contain the pattern.\n",
            "Sentence 2 contains the pattern.\n"
          ],
          "name": "stdout"
        }
      ]
    },
    {
      "cell_type": "markdown",
      "metadata": {
        "id": "american-december"
      },
      "source": [
        "**Exercise 1.3**\n",
        "\n",
        "Count how many digits are in the given text."
      ],
      "id": "american-december"
    },
    {
      "cell_type": "code",
      "metadata": {
        "colab": {
          "base_uri": "https://localhost:8080/"
        },
        "id": "incident-benjamin",
        "outputId": "d724dbcb-7187-4491-ad15-f244a6fe59cf"
      },
      "source": [
        "text = \"1'm wr1t1ng us1ng numb3r5 4nd of l3tt3r5.\"\n",
        "# your code here\n",
        "len(re.findall(r'\\d', text))"
      ],
      "id": "incident-benjamin",
      "execution_count": 22,
      "outputs": [
        {
          "output_type": "execute_result",
          "data": {
            "text/plain": [
              "10"
            ]
          },
          "metadata": {
            "tags": []
          },
          "execution_count": 22
        }
      ]
    },
    {
      "cell_type": "markdown",
      "metadata": {
        "id": "heated-botswana"
      },
      "source": [
        "**Exercise 1.4**\n",
        "\n",
        "Count how many numbers sequences are in the given text."
      ],
      "id": "heated-botswana"
    },
    {
      "cell_type": "code",
      "metadata": {
        "colab": {
          "base_uri": "https://localhost:8080/"
        },
        "id": "municipal-captain",
        "outputId": "c40005e5-9336-4ca2-adbe-c48beaa50a02"
      },
      "source": [
        "text = \"In this sentence there are 3 sequences: 123, 456.\"\n",
        "\n",
        "# your code here\n",
        "len(re.findall(r'\\d+', text))"
      ],
      "id": "municipal-captain",
      "execution_count": 23,
      "outputs": [
        {
          "output_type": "execute_result",
          "data": {
            "text/plain": [
              "3"
            ]
          },
          "metadata": {
            "tags": []
          },
          "execution_count": 23
        }
      ]
    },
    {
      "cell_type": "markdown",
      "metadata": {
        "id": "premier-citizen"
      },
      "source": [
        "**Exercise 1.5**\n",
        "\n",
        "Count how many letters between \"A\" and \"G\" there are in the given text.  Consider only capital letters."
      ],
      "id": "premier-citizen"
    },
    {
      "cell_type": "code",
      "metadata": {
        "colab": {
          "base_uri": "https://localhost:8080/"
        },
        "id": "velvet-sandwich",
        "outputId": "fd900593-c497-4d2d-966f-1e426e2912e3"
      },
      "source": [
        "text = \"ThIs An ExAmPlE.\"\n",
        "\n",
        "# your code here\n",
        "len(re.findall(r'[A-G]', text))"
      ],
      "id": "velvet-sandwich",
      "execution_count": 27,
      "outputs": [
        {
          "output_type": "execute_result",
          "data": {
            "text/plain": [
              "4"
            ]
          },
          "metadata": {
            "tags": []
          },
          "execution_count": 27
        }
      ]
    },
    {
      "cell_type": "markdown",
      "metadata": {
        "id": "equipped-nelson"
      },
      "source": [
        "**Exercise 1.6**\n",
        "\n",
        "Count how many letters between \"A\" and \"G\" there are in the given text.  Consider only capital letters."
      ],
      "id": "equipped-nelson"
    },
    {
      "cell_type": "code",
      "metadata": {
        "colab": {
          "base_uri": "https://localhost:8080/"
        },
        "id": "outdoor-collapse",
        "outputId": "1b30a0e3-f95d-4ab4-819a-0067eaa32caf"
      },
      "source": [
        "import re\n",
        "\n",
        "def text_match(text):\n",
        "        # your code here\n",
        "        if re.search(r'[A-G]', text):# your code here:\n",
        "                return 'Found a match!'\n",
        "        else:\n",
        "                return('Not matched!')\n",
        "\n",
        "print(text_match(\"ab\"))\n",
        "print(text_match(\"abc\"))\n",
        "print(text_match(\"abbc\"))\n",
        "print(text_match(\"aabbc\"))"
      ],
      "id": "outdoor-collapse",
      "execution_count": 29,
      "outputs": [
        {
          "output_type": "stream",
          "text": [
            "Not matched!\n",
            "Not matched!\n",
            "Not matched!\n",
            "Not matched!\n"
          ],
          "name": "stdout"
        }
      ]
    },
    {
      "cell_type": "markdown",
      "metadata": {
        "id": "directed-boost"
      },
      "source": [
        "**Exercise 1.7**\n",
        "\n",
        "Write a Python program to find sequences of lowercase letters (whatever length) joined with a underscore.\n"
      ],
      "id": "directed-boost"
    },
    {
      "cell_type": "code",
      "metadata": {
        "ExecuteTime": {
          "end_time": "2021-03-29T19:15:44.569412Z",
          "start_time": "2021-03-29T19:15:44.556191Z"
        },
        "colab": {
          "base_uri": "https://localhost:8080/"
        },
        "id": "hourly-protest",
        "outputId": "eeafb346-8327-4146-f57c-0e70b8bf8900"
      },
      "source": [
        "def text_match(text):\n",
        "        # your code here\n",
        "        if re.search(r'^[a-z]+_[a-z]+$', text):# your code here:\n",
        "                return 'Found a match!'\n",
        "        else:\n",
        "                return('Not matched!')\n",
        "\n",
        "print(text_match(\"aab_cbbbc\"))\n",
        "print(text_match(\"aab_Abbbc\"))\n",
        "print(text_match(\"Aaab_abbbc\"))"
      ],
      "id": "hourly-protest",
      "execution_count": 33,
      "outputs": [
        {
          "output_type": "stream",
          "text": [
            "Found a match!\n",
            "Not matched!\n",
            "Not matched!\n"
          ],
          "name": "stdout"
        }
      ]
    },
    {
      "cell_type": "markdown",
      "metadata": {
        "id": "flexible-thousand"
      },
      "source": [
        " **Exercise 1.8**\n",
        " \n",
        " \n",
        " Write a Python program that matches a word at the end of string, with optional punctuation."
      ],
      "id": "flexible-thousand"
    },
    {
      "cell_type": "code",
      "metadata": {
        "ExecuteTime": {
          "end_time": "2021-03-29T19:19:19.903724Z",
          "start_time": "2021-03-29T19:19:19.896867Z"
        },
        "colab": {
          "base_uri": "https://localhost:8080/"
        },
        "id": "legislative-liberty",
        "outputId": "aa14058f-4d80-4cf4-e8aa-b229c2a86d83"
      },
      "source": [
        "def text_match(text):\n",
        "        # your code here\n",
        "        if re.search(r'[?.!]$', text):# your code here:\n",
        "                return 'Found a match!'\n",
        "        else:\n",
        "                return('Not matched!')\n",
        "\n",
        "print(text_match(\"The quick brown fox jumps over the lazy dog.\"))\n",
        "print(text_match(\"The quick brown fox jumps over the lazy dog...!!\"))\n",
        "print(text_match(\"The quick brown fox jumps over the lazy dog \"))"
      ],
      "id": "legislative-liberty",
      "execution_count": 34,
      "outputs": [
        {
          "output_type": "stream",
          "text": [
            "Found a match!\n",
            "Found a match!\n",
            "Not matched!\n"
          ],
          "name": "stdout"
        }
      ]
    },
    {
      "cell_type": "markdown",
      "metadata": {
        "id": "driving-termination"
      },
      "source": [
        "**Exercise 1.9**\n",
        "\n",
        "Write a Python program that matches a numerical sequence of the form `+39 + (possible spaces) + ten numbers` that starts with a specified prefix (in the example it should be +39).\n",
        "\n"
      ],
      "id": "driving-termination"
    },
    {
      "cell_type": "code",
      "metadata": {
        "ExecuteTime": {
          "end_time": "2021-03-29T19:27:02.698550Z",
          "start_time": "2021-03-29T19:27:02.692171Z"
        },
        "colab": {
          "base_uri": "https://localhost:8080/"
        },
        "id": "physical-charles",
        "outputId": "570251d8-b38c-4ad9-a9c1-196bb9355e3e"
      },
      "source": [
        "def match_num(string):\n",
        "    # your code here\n",
        "    if re.search(r'\\+39[\\s?]?\\d{10}', text):# your code here:\n",
        "        return True\n",
        "    else:\n",
        "        return False\n",
        "    \n",
        "print(match_num('+39 3333333333'))\n",
        "print(match_num('+45 2345861123'))"
      ],
      "id": "physical-charles",
      "execution_count": 57,
      "outputs": [
        {
          "output_type": "stream",
          "text": [
            "False\n",
            "False\n"
          ],
          "name": "stdout"
        }
      ]
    },
    {
      "cell_type": "markdown",
      "metadata": {
        "id": "military-bhutan"
      },
      "source": [
        "**Exercise 2.0**\n",
        "\n",
        "Write a Python program to search a literals string in a string and also find the location within the original string where the pattern occurs.\n",
        "\n"
      ],
      "id": "military-bhutan"
    },
    {
      "cell_type": "code",
      "metadata": {
        "ExecuteTime": {
          "end_time": "2021-03-29T19:28:55.997968Z",
          "start_time": "2021-03-29T19:28:55.983097Z"
        },
        "colab": {
          "base_uri": "https://localhost:8080/"
        },
        "id": "incorporate-citizen",
        "outputId": "22778eff-9287-4beb-9f6a-ba7304b1f716"
      },
      "source": [
        "pattern = 'fox'\n",
        "text = 'The quick brown fox jumps over the lazy dog.'\n",
        "# your code here\n",
        "s = re.match(pattern, text)# your code here\n",
        "e = re.search(pattern, text).span()# your code here\n",
        "print(f'Found {pattern} in \"{text}\" from {e[0]} to {e[1]}')"
      ],
      "id": "incorporate-citizen",
      "execution_count": 63,
      "outputs": [
        {
          "output_type": "stream",
          "text": [
            "Found fox in \"The quick brown fox jumps over the lazy dog.\" from 16 to 19\n"
          ],
          "name": "stdout"
        }
      ]
    },
    {
      "cell_type": "markdown",
      "metadata": {
        "id": "anticipated-implement"
      },
      "source": [
        "**Exercise 2.1**\n",
        "\n",
        "\n",
        "Write a Python program to abbreviate 'Road' as 'Rd.' in a given string"
      ],
      "id": "anticipated-implement"
    },
    {
      "cell_type": "code",
      "metadata": {
        "ExecuteTime": {
          "end_time": "2021-03-29T19:35:16.436906Z",
          "start_time": "2021-03-29T19:35:16.295425Z"
        },
        "colab": {
          "base_uri": "https://localhost:8080/",
          "height": 35
        },
        "id": "documented-hopkins",
        "outputId": "f664b669-d4fa-4951-af69-8799f3378b5a"
      },
      "source": [
        "street = '21 Ramkrishna Road'\n",
        "# your code here\n",
        "re.sub('Road', 'Rd', street)"
      ],
      "id": "documented-hopkins",
      "execution_count": 65,
      "outputs": [
        {
          "output_type": "execute_result",
          "data": {
            "application/vnd.google.colaboratory.intrinsic+json": {
              "type": "string"
            },
            "text/plain": [
              "'21 Ramkrishna Rd'"
            ]
          },
          "metadata": {
            "tags": []
          },
          "execution_count": 65
        }
      ]
    },
    {
      "cell_type": "markdown",
      "metadata": {
        "id": "consolidated-basic"
      },
      "source": [
        "**Exercise 2.2**\n",
        "\n",
        "Write a Python program to replace all occurrences of space, comma, or dot with an underscore.\n",
        "\n",
        "\n",
        "\n",
        "\n",
        "\n"
      ],
      "id": "consolidated-basic"
    },
    {
      "cell_type": "code",
      "metadata": {
        "ExecuteTime": {
          "end_time": "2021-03-29T19:37:01.079874Z",
          "start_time": "2021-03-29T19:37:01.030324Z"
        },
        "colab": {
          "base_uri": "https://localhost:8080/",
          "height": 35
        },
        "id": "complimentary-brush",
        "outputId": "65520a63-db31-4386-ab66-1a54fe63403d"
      },
      "source": [
        "text = 'M7 W1 D2 NLP Module'\n",
        "# your code here\n",
        "re.sub(r'[ \\.\\,]', '_', text)"
      ],
      "id": "complimentary-brush",
      "execution_count": 75,
      "outputs": [
        {
          "output_type": "execute_result",
          "data": {
            "application/vnd.google.colaboratory.intrinsic+json": {
              "type": "string"
            },
            "text/plain": [
              "'M7_W1_D2_NLP_Module'"
            ]
          },
          "metadata": {
            "tags": []
          },
          "execution_count": 75
        }
      ]
    },
    {
      "cell_type": "markdown",
      "metadata": {
        "id": "athletic-personal"
      },
      "source": [
        "**Exercise 2.3**\n",
        "\n",
        "Write a Python program to replace all occurrences of space, comma, or dot with an underscore in a the name of a file except for the extension.\n",
        "\n",
        "Hint: use the |: in the left part match the space and the commas and on the right part use a negative lookahead that ensure that a dot is not followed by some text at the end of the string.\n",
        "\n",
        "For the negative lookahed: `\\.(?!\\w*$)`"
      ],
      "id": "athletic-personal"
    },
    {
      "cell_type": "code",
      "metadata": {
        "ExecuteTime": {
          "end_time": "2021-03-29T19:52:32.924432Z",
          "start_time": "2021-03-29T19:52:32.915909Z"
        },
        "scrolled": true,
        "colab": {
          "base_uri": "https://localhost:8080/",
          "height": 35
        },
        "id": "documentary-floor",
        "outputId": "6e0b8e0b-860d-4613-d3c3-ec43b136e156"
      },
      "source": [
        "text = 'M7 W1 D2 NLP Module.ipynb'\n",
        "# your code here\n",
        "re.sub(r'(\\s|\\,|\\.(?!\\w*$))', '_', text)"
      ],
      "id": "documentary-floor",
      "execution_count": 80,
      "outputs": [
        {
          "output_type": "execute_result",
          "data": {
            "application/vnd.google.colaboratory.intrinsic+json": {
              "type": "string"
            },
            "text/plain": [
              "'M7_W1_D2_NLP_Module.ipynb'"
            ]
          },
          "metadata": {
            "tags": []
          },
          "execution_count": 80
        }
      ]
    },
    {
      "cell_type": "markdown",
      "metadata": {
        "id": "chemical-supervisor"
      },
      "source": [
        "**Exercise 2.4**\n",
        "\n",
        "Write a Python program to remove all the words between brackets, brackets included.\n",
        "\n",
        "This: https://stackoverflow.com/questions/3075130/what-is-the-difference-between-and-regular-expressions\n",
        "can be helpful"
      ],
      "id": "chemical-supervisor"
    },
    {
      "cell_type": "code",
      "metadata": {
        "ExecuteTime": {
          "end_time": "2021-03-29T20:38:22.296293Z",
          "start_time": "2021-03-29T20:38:22.292096Z"
        },
        "colab": {
          "base_uri": "https://localhost:8080/",
          "height": 35
        },
        "id": "complicated-dover",
        "outputId": "319d97b4-e656-4243-a1a1-f3e3cd157387"
      },
      "source": [
        "text = \"This is an (hard) exercise that is very easy (to fail).\"\n",
        "\n",
        "# your code here\n",
        "re.sub(r'\\(.*?\\)', '', text)"
      ],
      "id": "complicated-dover",
      "execution_count": 108,
      "outputs": [
        {
          "output_type": "execute_result",
          "data": {
            "application/vnd.google.colaboratory.intrinsic+json": {
              "type": "string"
            },
            "text/plain": [
              "'This is an  exercise that is very easy .'"
            ]
          },
          "metadata": {
            "tags": []
          },
          "execution_count": 108
        }
      ]
    },
    {
      "cell_type": "markdown",
      "metadata": {
        "id": "published-hamilton"
      },
      "source": [
        "**Exercise 2.5**\n",
        "\n",
        "Write a Python program to remove all the words between <>, brackets included."
      ],
      "id": "published-hamilton"
    },
    {
      "cell_type": "code",
      "metadata": {
        "ExecuteTime": {
          "end_time": "2021-03-29T20:38:17.479539Z",
          "start_time": "2021-03-29T20:38:17.471872Z"
        },
        "colab": {
          "base_uri": "https://localhost:8080/",
          "height": 35
        },
        "id": "curious-township",
        "outputId": "2aa563b2-2dde-41d0-d289-5125c9455362"
      },
      "source": [
        "text = \"Remove <this> tags </this> please!\"\n",
        "\n",
        "# your code here\n",
        "re.sub(r'\\<.*?\\>', '', text)"
      ],
      "id": "curious-township",
      "execution_count": 89,
      "outputs": [
        {
          "output_type": "execute_result",
          "data": {
            "application/vnd.google.colaboratory.intrinsic+json": {
              "type": "string"
            },
            "text/plain": [
              "'Remove  tags  please!'"
            ]
          },
          "metadata": {
            "tags": []
          },
          "execution_count": 89
        }
      ]
    },
    {
      "cell_type": "markdown",
      "metadata": {
        "id": "complimentary-house"
      },
      "source": [
        "**Exercise 2.6**\n",
        "\n",
        "Write a Python program to extract values between quotation marks of a string.\n",
        "\n"
      ],
      "id": "complimentary-house"
    },
    {
      "cell_type": "code",
      "metadata": {
        "ExecuteTime": {
          "end_time": "2021-03-29T20:39:28.185656Z",
          "start_time": "2021-03-29T20:39:28.111663Z"
        },
        "colab": {
          "base_uri": "https://localhost:8080/"
        },
        "id": "promotional-robin",
        "outputId": "07b08a02-4411-4c38-e330-345c95692dd6"
      },
      "source": [
        "text = '\"Python\", \"PHP\", \"Java\"'\n",
        "# your code here\n",
        "re.findall(r'\"(.*?)\"', text)"
      ],
      "id": "promotional-robin",
      "execution_count": 91,
      "outputs": [
        {
          "output_type": "execute_result",
          "data": {
            "text/plain": [
              "['Python', 'PHP', 'Java']"
            ]
          },
          "metadata": {
            "tags": []
          },
          "execution_count": 91
        }
      ]
    },
    {
      "cell_type": "markdown",
      "metadata": {
        "id": "forbidden-serbia"
      },
      "source": [
        "**Exercise 2.7**\n",
        "\n",
        "Write a Python program to insert spaces between words starting with capital letters.\n",
        "\n"
      ],
      "id": "forbidden-serbia"
    },
    {
      "cell_type": "code",
      "metadata": {
        "colab": {
          "base_uri": "https://localhost:8080/",
          "height": 35
        },
        "id": "Ftccrq3sURFq",
        "outputId": "b7d189ce-ff99-4f7c-82e1-5678dad52fd6"
      },
      "source": [
        ""
      ],
      "id": "Ftccrq3sURFq",
      "execution_count": 92,
      "outputs": [
        {
          "output_type": "execute_result",
          "data": {
            "application/vnd.google.colaboratory.intrinsic+json": {
              "type": "string"
            },
            "text/plain": [
              "' Python Exercises'"
            ]
          },
          "metadata": {
            "tags": []
          },
          "execution_count": 92
        }
      ]
    },
    {
      "cell_type": "code",
      "metadata": {
        "ExecuteTime": {
          "end_time": "2021-03-29T20:47:13.993891Z",
          "start_time": "2021-03-29T20:47:13.988882Z"
        },
        "colab": {
          "base_uri": "https://localhost:8080/"
        },
        "id": "appointed-universe",
        "outputId": "47ff0a2c-70b4-434d-d3ec-d30df0d6a4e9"
      },
      "source": [
        "def capital_words_spaces(str1):\n",
        "    # your code here\n",
        "    return re.sub('([A-Z])', r' \\1', str1)\n",
        "\n",
        "print(capital_words_spaces(\"Python\"))\n",
        "print(capital_words_spaces(\"PythonExercises\"))\n",
        "print(capital_words_spaces(\"PythonExercisesPracticeSolution\"))"
      ],
      "id": "appointed-universe",
      "execution_count": 93,
      "outputs": [
        {
          "output_type": "stream",
          "text": [
            " Python\n",
            " Python Exercises\n",
            " Python Exercises Practice Solution\n"
          ],
          "name": "stdout"
        }
      ]
    },
    {
      "cell_type": "markdown",
      "metadata": {
        "id": "satisfactory-nursery"
      },
      "source": [
        "**Exercise 2.8**\n",
        "\n",
        "Extract the table of content of the text.\n",
        "\n"
      ],
      "id": "satisfactory-nursery"
    },
    {
      "cell_type": "code",
      "metadata": {
        "ExecuteTime": {
          "end_time": "2021-03-30T05:39:20.466837Z",
          "start_time": "2021-03-30T05:39:20.440659Z"
        },
        "id": "educated-reform",
        "outputId": "5bd40517-5365-4ae1-8268-25d85290e269"
      },
      "source": [
        "text = \"\"\"\n",
        "\n",
        "Introduction\n",
        "-------\n",
        "\n",
        "This is the intro.\n",
        "\n",
        "Chapter 1\n",
        "-------\n",
        "\n",
        "Hello. This is the first chapter and it contains numbers.\n",
        "\n",
        "Chapter 2\n",
        "-------\n",
        "\n",
        "The middle of the book.\n",
        "\n",
        "Chapter 3\n",
        "-------\n",
        "\n",
        "Finally the last chapter...\n",
        "\n",
        "Conclusions\n",
        "-------\n",
        "\n",
        "The end of this torture.\n",
        "\"\"\"\n",
        "\n",
        "# your code here"
      ],
      "id": "educated-reform",
      "execution_count": null,
      "outputs": [
        {
          "output_type": "execute_result",
          "data": {
            "text/plain": [
              "['Introduction', 'Chapter 1', 'Chapter 2', 'Chapter 3', 'Conclusions']"
            ]
          },
          "metadata": {
            "tags": []
          },
          "execution_count": 4
        }
      ]
    },
    {
      "cell_type": "code",
      "metadata": {
        "id": "trying-notice"
      },
      "source": [
        "text = \"\"\"\n",
        "\n",
        "Introduction\n",
        "-------\n",
        "\n",
        "This is the intro.\n",
        "\n",
        "Chapter 1\n",
        "-------\n",
        "\n",
        "Hello. This is the first chapter and it contains numbers.\n",
        "\n",
        "Chapter 2\n",
        "-------\n",
        "\n",
        "The middle of the book.\n",
        "\n",
        "Chapter 3\n",
        "-------\n",
        "\n",
        "Finally the last chapter...\n",
        "\n",
        "Conclusions\n",
        "-------\n",
        "\n",
        "The end of this torture.\n",
        "\"\"\"\n",
        "\n",
        "# your code here"
      ],
      "id": "trying-notice",
      "execution_count": 94,
      "outputs": []
    },
    {
      "cell_type": "code",
      "metadata": {
        "id": "dIoHz78CWZfJ"
      },
      "source": [
        "pattern = \"\\s*-+\\s*|\\.*\\s*\\n\\W*\""
      ],
      "id": "dIoHz78CWZfJ",
      "execution_count": 106,
      "outputs": []
    },
    {
      "cell_type": "code",
      "metadata": {
        "colab": {
          "base_uri": "https://localhost:8080/"
        },
        "id": "s4dF8YhNUvp3",
        "outputId": "dc0c454e-1476-4d63-f2f9-a3ce8f881943"
      },
      "source": [
        "re.split(pattern, text)"
      ],
      "id": "s4dF8YhNUvp3",
      "execution_count": 107,
      "outputs": [
        {
          "output_type": "execute_result",
          "data": {
            "text/plain": [
              "['',\n",
              " 'Introduction',\n",
              " 'This is the intro',\n",
              " 'Chapter 1',\n",
              " 'Hello. This is the first chapter and it contains numbers',\n",
              " 'Chapter 2',\n",
              " 'The middle of the book',\n",
              " 'Chapter 3',\n",
              " 'Finally the last chapter',\n",
              " 'Conclusions',\n",
              " 'The end of this torture',\n",
              " '']"
            ]
          },
          "metadata": {
            "tags": []
          },
          "execution_count": 107
        }
      ]
    },
    {
      "cell_type": "code",
      "metadata": {
        "id": "WmMSLRm4UzkK"
      },
      "source": [
        ""
      ],
      "id": "WmMSLRm4UzkK",
      "execution_count": null,
      "outputs": []
    }
  ]
}